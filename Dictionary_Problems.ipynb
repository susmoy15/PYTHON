{
  "nbformat": 4,
  "nbformat_minor": 0,
  "metadata": {
    "colab": {
      "provenance": [],
      "authorship_tag": "ABX9TyPbxqzDch0cY6MlZDlwzHXw",
      "include_colab_link": true
    },
    "kernelspec": {
      "name": "python3",
      "display_name": "Python 3"
    },
    "language_info": {
      "name": "python"
    }
  },
  "cells": [
    {
      "cell_type": "markdown",
      "metadata": {
        "id": "view-in-github",
        "colab_type": "text"
      },
      "source": [
        "<a href=\"https://colab.research.google.com/github/susmoy15/PYTHON/blob/main/Dictionary_Problems.ipynb\" target=\"_parent\"><img src=\"https://colab.research.google.com/assets/colab-badge.svg\" alt=\"Open In Colab\"/></a>"
      ]
    },
    {
      "cell_type": "markdown",
      "source": [
        "**77. Dictionary Manipulation:** Given a dictionary with student names as keys and their corresponding scores as values, write a Python program to add a new student to the dictionary and update the score of an existing student."
      ],
      "metadata": {
        "id": "MsZwxiG1p1pT"
      }
    },
    {
      "cell_type": "code",
      "source": [
        "student_scores = {\n",
        "    'Shiam': 99,\n",
        "    'Mazhar': 89,\n",
        "    'Susmoy' : 85\n",
        "}\n",
        "\n",
        "new_student = input(\"Enter the name of the new student:\")\n",
        "new_score = int(input(\"Enter the score of the new student:\"))\n",
        "\n",
        "student_scores[new_student] = new_score\n",
        "print(f\"Added {new_student} with score {new_score}.\")\n",
        "\n",
        "existing_student = input(\"Enter the name of the student to update the score: \")\n",
        "\n",
        "if existing_student in student_scores:\n",
        "    new_score = int(input(\"Enter the new score: \"))\n",
        "    student_scores[existing_student] = new_score\n",
        "    print(f\"Updated score for {existing_student} to {new_score}.\")\n",
        "else:\n",
        "    print(f\"{existing_student} not found in the dictionary.\")\n",
        "\n",
        "print(\"Updated Student Scores:\")\n",
        "for student, score in student_scores.items():\n",
        "    print(f\"{student}: {score}\")\n",
        "\n"
      ],
      "metadata": {
        "colab": {
          "base_uri": "https://localhost:8080/"
        },
        "id": "jGtckRrwp7LL",
        "outputId": "dc3097c9-b28d-461b-82da-b4e1e696ee3d"
      },
      "execution_count": null,
      "outputs": [
        {
          "output_type": "stream",
          "name": "stdout",
          "text": [
            "Enter the name of the new student:sunny\n",
            "Enter the score of the new student:58\n",
            "Added sunny with score 58.\n",
            "Enter the name of the student to update the score: Shiam\n",
            "Enter the new score: 95\n",
            "Updated score for Shiam to 95.\n",
            "Updated Student Scores:\n",
            "Shiam: 95\n",
            "Mazhar: 89\n",
            "Susmoy: 85\n",
            "sunny: 58\n"
          ]
        }
      ]
    },
    {
      "cell_type": "markdown",
      "source": [
        "**78. Dictionary Keys and Values:** Write a Python program that takes a dictionary as input and prints all the keys and values in separate lines."
      ],
      "metadata": {
        "id": "AjY80sjSE4mF"
      }
    },
    {
      "cell_type": "code",
      "source": [
        "def print_dict_keys_values(input_dict):\n",
        "    for key, value in input_dict.items():\n",
        "        print(f\"Key: {key}, Value: {value}\")\n",
        "\n",
        "sample_dict = {\n",
        "    'name': 'John',\n",
        "    'age': 30,\n",
        "    'city': 'New York'\n",
        "}\n",
        "print_dict_keys_values(sample_dict)"
      ],
      "metadata": {
        "colab": {
          "base_uri": "https://localhost:8080/"
        },
        "id": "idPeEufitf0h",
        "outputId": "e2f43031-0ad2-4cb9-8efc-40ee7f9c7bf1"
      },
      "execution_count": null,
      "outputs": [
        {
          "output_type": "stream",
          "name": "stdout",
          "text": [
            "Key: name, Value: John\n",
            "Key: age, Value: 30\n",
            "Key: city, Value: New York\n"
          ]
        }
      ]
    },
    {
      "cell_type": "markdown",
      "source": [
        "**79. Dictionary Length:** Write a Python program to calculate and print the number of key-value pairs in a given dictionary."
      ],
      "metadata": {
        "id": "P0zSh1XvwXil"
      }
    },
    {
      "cell_type": "code",
      "source": [
        "dictionary ={\n",
        "    'name': 'Susmoy',\n",
        "    'age':25,\n",
        "    'Home-Town':'Dinajpur'\n",
        "}\n",
        "dictonary_length = len(dictionary)\n",
        "print(\"Dictionary:\",dictionary)\n",
        "print(f\"The length of the dictionary is: {dictonary_length}\")\n",
        "for key,value in dictionary.items():\n",
        "  print(f\"Key:{key}, Value:{value}, Type of value:{type(value)}\")"
      ],
      "metadata": {
        "colab": {
          "base_uri": "https://localhost:8080/"
        },
        "id": "FVk8NhYuweC1",
        "outputId": "d202bf1c-00c4-4674-8a90-612d317946c4"
      },
      "execution_count": null,
      "outputs": [
        {
          "output_type": "stream",
          "name": "stdout",
          "text": [
            "Dictionary: {'name': 'Susmoy', 'age': 25, 'Home-Town': 'Dinajpur'}\n",
            "The length of the dictionary is: 3\n",
            "Key:name, Value:Susmoy, Type of value:<class 'str'>\n",
            "Key:age, Value:25, Type of value:<class 'int'>\n",
            "Key:Home-Town, Value:Dinajpur, Type of value:<class 'str'>\n"
          ]
        }
      ]
    },
    {
      "cell_type": "markdown",
      "source": [
        "**80. Dictionary Value Search:** Given a dictionary of items and their prices, write a Python program to search for an item based on its price and print the item’s name."
      ],
      "metadata": {
        "id": "o4cghzhPzLnI"
      }
    },
    {
      "cell_type": "code",
      "source": [
        "items={\n",
        "    'Apple':100,\n",
        "    'Orange':50,\n",
        "    'Grape':85\n",
        "}\n",
        "search_price = int(input(\"Enter the price to search for:\"))\n",
        "\n",
        "item_found = False\n",
        "for item,price in items.items():\n",
        "  if price == search_price:\n",
        "    print(f\"Item found: {item}\")\n",
        "    item_found = True\n",
        "    break\n",
        "if not item_found:\n",
        "  print(\"Item not found\")"
      ],
      "metadata": {
        "colab": {
          "base_uri": "https://localhost:8080/"
        },
        "id": "YN27E1DQzRhf",
        "outputId": "2381a7e1-76a1-4981-cfde-66439ee71f49"
      },
      "execution_count": null,
      "outputs": [
        {
          "output_type": "stream",
          "name": "stdout",
          "text": [
            "Enter the price to search for:54\n",
            "Item not found\n"
          ]
        }
      ]
    },
    {
      "cell_type": "markdown",
      "source": [
        "**81. Dictionary Merging:** Given two dictionaries, write a Python program to merge them into a single dictionary and print the result."
      ],
      "metadata": {
        "id": "56kPaDiz4qWR"
      }
    },
    {
      "cell_type": "code",
      "source": [
        "dictionary ={\n",
        "    'name': 'Susmoy',\n",
        "    'age':25,\n",
        "    'Home-Town':'Dinajpur'\n",
        "}\n",
        "items={\n",
        "    'Apple':100,\n",
        "    'Orange':50,\n",
        "    'Grape':85\n",
        "}\n",
        "\n",
        "merged_dict = {**dictionary, **items}\n",
        "print(\"Merged Dictionary:\",merged_dict)\n"
      ],
      "metadata": {
        "colab": {
          "base_uri": "https://localhost:8080/"
        },
        "id": "pBwMtV0_4rf5",
        "outputId": "a5e1a804-2a69-4d36-a8a0-6ba98f39aa1f"
      },
      "execution_count": null,
      "outputs": [
        {
          "output_type": "stream",
          "name": "stdout",
          "text": [
            "Merged Dictionary: {'name': 'Susmoy', 'age': 25, 'Home-Town': 'Dinajpur', 'Apple': 100, 'Orange': 50, 'Grape': 85}\n"
          ]
        }
      ]
    },
    {
      "cell_type": "markdown",
      "source": [
        "**82. Dictionary Key Removal:** Given a dictionary of items and their quantities, write a Python program to remove a specific item from the dictionary based on user input."
      ],
      "metadata": {
        "id": "WXhHSSHF8exU"
      }
    },
    {
      "cell_type": "code",
      "source": [
        "dictionary ={\n",
        "    'name': 'Susmoy',\n",
        "    'age':25,\n",
        "    'Home-Town':'Dinajpur'\n",
        "}\n",
        "delete_item = input(\"Enter the item to delete:\").lower()\n",
        "if delete_item in dictionary:\n",
        "  del dictionary[delete_item]\n",
        "  print(f\"Deleted {delete_item} from the dictionary.\")\n",
        "else:\n",
        "  print(f\"{delete_item} not found in the dictionary.\")\n",
        "print(\"Updated Dictionary:\",dictionary)\n"
      ],
      "metadata": {
        "colab": {
          "base_uri": "https://localhost:8080/"
        },
        "id": "Qzp6MG0m8iaD",
        "outputId": "7f0ba5e4-466d-429e-a684-07403306f901"
      },
      "execution_count": null,
      "outputs": [
        {
          "output_type": "stream",
          "name": "stdout",
          "text": [
            "Enter the item to delete:home-town\n",
            "home-town not found in the dictionary.\n",
            "Updated Dictionary: {'name': 'Susmoy', 'age': 25, 'Home-Town': 'Dinajpur'}\n"
          ]
        }
      ]
    },
    {
      "cell_type": "markdown",
      "source": [
        "**83. Dictionary Sorting:** Given a dictionary with names as keys and corresponding ages as values, write a Python program to sort the dictionary based on age in ascending order."
      ],
      "metadata": {
        "id": "zdrhMSDq-fS1"
      }
    },
    {
      "cell_type": "code",
      "source": [
        "Men_age = {\n",
        "    'Susmoy':25,\n",
        "    'Shiam': 29,\n",
        "    'Subroto':27,\n",
        "    'Mazhar':38\n",
        "}\n",
        "sorted_dict = dict(sorted(Men_age.items(),key=lambda item:item[1]))\n",
        "print(\"Sorted Dictionary:\",sorted_dict)"
      ],
      "metadata": {
        "colab": {
          "base_uri": "https://localhost:8080/"
        },
        "id": "pn8SxNLB-h2m",
        "outputId": "e36d43cf-8ebb-4f53-f73e-4622405f01d2"
      },
      "execution_count": null,
      "outputs": [
        {
          "output_type": "stream",
          "name": "stdout",
          "text": [
            "Sorted Dictionary: {'Susmoy': 25, 'Subroto': 27, 'Shiam': 29, 'Mazhar': 38}\n"
          ]
        }
      ]
    },
    {
      "cell_type": "markdown",
      "source": [
        "**84. Dictionary Frequency Count:** Write a Python program that takes a string as input and creates a dictionary containing each character as a key and its frequency as the value."
      ],
      "metadata": {
        "id": "Kk1jLwZZEd3A"
      }
    },
    {
      "cell_type": "code",
      "source": [
        "input_string = input(\"Enter a String: \")\n",
        "dictionary = {}\n",
        "for char in input_string:\n",
        "  if char in dictionary:\n",
        "     dictionary[char] += 1\n",
        "  else:\n",
        "     dictionary[char] = 1\n",
        "print(\"Character Frequency Dictionary:\")\n",
        "print(dictionary)"
      ],
      "metadata": {
        "colab": {
          "base_uri": "https://localhost:8080/"
        },
        "id": "2reyngRDEgTY",
        "outputId": "ec2fe840-e75b-4fb8-afb7-16b3123c5e9e"
      },
      "execution_count": null,
      "outputs": [
        {
          "output_type": "stream",
          "name": "stdout",
          "text": [
            "Enter a String: oi khara aitesi\n",
            "Character Frequency Dictionary:\n",
            "{'o': 1, 'i': 3, ' ': 2, 'k': 1, 'h': 1, 'a': 3, 'r': 1, 't': 1, 'e': 1, 's': 1}\n"
          ]
        }
      ]
    },
    {
      "cell_type": "markdown",
      "source": [
        "**85. Dictionary Comprehension:** Given a list of integers, write a Python program to create a dictionary where the keys are the elements from the list, and the values are their squares."
      ],
      "metadata": {
        "id": "-Bqy0JHXjXHt"
      }
    },
    {
      "cell_type": "code",
      "source": [
        "numbers = [1,2,3,4,5,6]\n",
        "square_dict = {num:num**2 for num in numbers}\n",
        "print('Dictinary is:',square_dict)"
      ],
      "metadata": {
        "colab": {
          "base_uri": "https://localhost:8080/"
        },
        "id": "A510ylzKjaFE",
        "outputId": "db86bb05-3462-42b5-c930-7fdb8c0b9001"
      },
      "execution_count": null,
      "outputs": [
        {
          "output_type": "stream",
          "name": "stdout",
          "text": [
            "Dictinary is: {1: 1, 2: 4, 3: 9, 4: 16, 5: 25, 6: 36}\n"
          ]
        }
      ]
    },
    {
      "cell_type": "markdown",
      "source": [
        "**86. Dictionary Key Check:** Write a Python program that takes a key as input and checks if it exists in a given dictionary. Print “Key Found” if the key is present and “Key Not Found” otherwise."
      ],
      "metadata": {
        "id": "G9u_PrktnhKr"
      }
    },
    {
      "cell_type": "code",
      "source": [
        "def check_key(data:dict,key:str) ->bool:\n",
        "  return key in data\n",
        "\n",
        "user_data={\"name\":\"Susmoy\",\"age\":25,\"city\":\"Dinajpur\"}\n",
        "key = input(\"Enter the key value: \").strip()\n",
        "\n",
        "if check_key(user_data,key):\n",
        "  print(f\"key '{key}' exists in the Dictionary\")\n",
        "else:\n",
        "  print(f\"key '{key}' Does not exists in the Dictionary\")"
      ],
      "metadata": {
        "colab": {
          "base_uri": "https://localhost:8080/"
        },
        "id": "FeDWkM2Rnwts",
        "outputId": "99286933-965a-4c85-d895-29f906111f9e"
      },
      "execution_count": null,
      "outputs": [
        {
          "output_type": "stream",
          "name": "stdout",
          "text": [
            "Enter the key value: gh\n",
            "key 'gh' Does not exists in the Dictionary\n"
          ]
        }
      ]
    },
    {
      "cell_type": "markdown",
      "source": [
        "**Nested Dictionary Problems:**"
      ],
      "metadata": {
        "id": "vKmqSoh-4ByN"
      }
    },
    {
      "cell_type": "markdown",
      "source": [
        "**87. Access Nested Dictionary:** Given a nested dictionary containing student details, write a Python program to access and print specific information such as a student’s name, age, and address."
      ],
      "metadata": {
        "id": "kz5k40Md4EzM"
      }
    },
    {
      "cell_type": "code",
      "source": [
        "students={\n",
        "  \"101\" :{\n",
        "        \"name\": \"Susmoy\",\n",
        "        \"age\": 25,\n",
        "        \"address\": \"Dinajpur\"\n",
        "    },\n",
        "  \"102\" :{\n",
        "        \"name\": \"Sondip\",\n",
        "        \"age\": 29,\n",
        "        \"address\": \"Dinajpur\"\n",
        "    },\n",
        "  \"103\" :{\n",
        "        \"name\": \"Rudro\",\n",
        "        \"age\": 27,\n",
        "        \"address\": \"Dinajpur\"\n",
        "    }\n",
        "}\n",
        "\n",
        "def students_details(student_id):\n",
        "  if student_id in students:\n",
        "    student = students[student_id]\n",
        "    print(f\"Name: {student['name']}\")\n",
        "    print(f\"Age: {student['age']}\")\n",
        "    print(f\"Address: {student['address']}\")\n",
        "  else:\n",
        "    print(\"Student not found\")\n",
        "\n",
        "student_id = input(\"Enter Student ID: \")\n",
        "students_details(student_id)"
      ],
      "metadata": {
        "colab": {
          "base_uri": "https://localhost:8080/"
        },
        "id": "MO657On84Ibk",
        "outputId": "c0e1cd9b-ca94-4bf8-e014-ea5309a8584f"
      },
      "execution_count": null,
      "outputs": [
        {
          "output_type": "stream",
          "name": "stdout",
          "text": [
            "Enter Student ID: 520\n",
            "Student not found\n"
          ]
        }
      ]
    },
    {
      "cell_type": "markdown",
      "source": [
        "**88. Nested Dictionary Length:** Write a Python program to calculate and print the total number of key-value pairs in a nested dictionary."
      ],
      "metadata": {
        "id": "_fAAC5_xYlPl"
      }
    },
    {
      "cell_type": "code",
      "source": [
        "def count_key_value(d):\n",
        "  total = 0\n",
        "  for key,value in d.items():\n",
        "      total+=1\n",
        "      if isinstance(value,dict):\n",
        "          total += count_key_value(value)\n",
        "\n",
        "  return total\n",
        "\n",
        "\n",
        "nested_dict = {\n",
        "    'a': 1,\n",
        "    'b': {\n",
        "        'c': 2,\n",
        "        'd': {\n",
        "            'e': 3,\n",
        "            'f': 4\n",
        "        }\n",
        "    },\n",
        "    'g': 5\n",
        "}\n",
        "\n",
        "total_pairs_value = count_key_value(nested_dict)\n",
        "print(\"Total number of key-value pairs:\", total_pairs_value)"
      ],
      "metadata": {
        "id": "Ct-kOLOmYnz8",
        "colab": {
          "base_uri": "https://localhost:8080/"
        },
        "outputId": "983a7a60-151b-4a7c-e894-3ed3ef0f97d4"
      },
      "execution_count": null,
      "outputs": [
        {
          "output_type": "stream",
          "name": "stdout",
          "text": [
            "Total number of key-value pairs: 7\n"
          ]
        }
      ]
    },
    {
      "cell_type": "markdown",
      "source": [
        "**89. Nested Dictionary Update:** Given a nested dictionary of employee details, write a Python program to update an employee’s salary based on their employee ID"
      ],
      "metadata": {
        "id": "U5AJcc9O7CE5"
      }
    },
    {
      "cell_type": "code",
      "source": [
        "employees = {\n",
        "    101: {'name': 'John Doe', 'age': 30, 'salary': 50000},\n",
        "    102: {'name': 'Jane Smith', 'age': 28, 'salary': 55000},\n",
        "    103: {'name': 'Emily Johnson', 'age': 35, 'salary': 60000}\n",
        "}\n",
        "def updated_salary(employee_id,new_salary):\n",
        "    if employee_id in employees:\n",
        "       employees[employee_id]['salary'] = new_salary\n",
        "       print(f\"Salary of Employee {employee_id} updated to {new_salary}.\")\n",
        "    else:\n",
        "      print(f\"Employee ID {employee_id} not found.\")\n",
        "updated_salary(102,85000)\n",
        "print(employees)"
      ],
      "metadata": {
        "colab": {
          "base_uri": "https://localhost:8080/"
        },
        "id": "KA05tWyh7EAR",
        "outputId": "09311d01-aa79-4669-e5c2-c9289aedebf3"
      },
      "execution_count": null,
      "outputs": [
        {
          "output_type": "stream",
          "name": "stdout",
          "text": [
            "Salary of Employee 102 updated to 85000.\n",
            "{101: {'name': 'John Doe', 'age': 30, 'salary': 50000}, 102: {'name': 'Jane Smith', 'age': 28, 'salary': 85000}, 103: {'name': 'Emily Johnson', 'age': 35, 'salary': 60000}}\n"
          ]
        }
      ]
    },
    {
      "cell_type": "markdown",
      "source": [
        "**90. Nested Dictionary Sorting:** Given a nested dictionary containing product details (product name, price, and quantity), write a Python program to sort the products based on their prices in ascending order."
      ],
      "metadata": {
        "id": "aB7Av2bM9LLq"
      }
    },
    {
      "cell_type": "code",
      "source": [
        "products = {\n",
        "    'product1': {'name': 'Laptop', 'price': 1200, 'quantity': 10},\n",
        "    'product2': {'name': 'Smartphone', 'price': 100, 'quantity': 25},\n",
        "    'product3': {'name': 'Headphones', 'price': 50, 'quantity': 50},\n",
        "    'product4': {'name': 'Keyboard', 'price': 50, 'quantity': 100},\n",
        "    'product5': {'name': 'Mouse', 'price': 30, 'quantity': 150}\n",
        "}\n",
        "\n",
        "sorted_products = dict(sorted(products.items(), key = lambda item: item[1]['price']))\n",
        "\n",
        "for product_id,details in sorted_products.items():\n",
        "  print(f\"{product_id}: {details}\")"
      ],
      "metadata": {
        "colab": {
          "base_uri": "https://localhost:8080/"
        },
        "id": "_hoXU3IF9PBJ",
        "outputId": "bf07fcca-ac16-4b3d-e742-689da3a959e8"
      },
      "execution_count": null,
      "outputs": [
        {
          "output_type": "stream",
          "name": "stdout",
          "text": [
            "product5: {'name': 'Mouse', 'price': 30, 'quantity': 150}\n",
            "product3: {'name': 'Headphones', 'price': 50, 'quantity': 50}\n",
            "product4: {'name': 'Keyboard', 'price': 50, 'quantity': 100}\n",
            "product2: {'name': 'Smartphone', 'price': 100, 'quantity': 25}\n",
            "product1: {'name': 'Laptop', 'price': 1200, 'quantity': 10}\n"
          ]
        }
      ]
    },
    {
      "cell_type": "markdown",
      "source": [
        "**91. Nested Dictionary Key Search:** Write a Python program that takes a key as input and searches for it in a nested dictionary. If found, print the corresponding value, otherwise, print “Key Not Found."
      ],
      "metadata": {
        "id": "oTzSPUzIGp9i"
      }
    },
    {
      "cell_type": "code",
      "source": [
        "employee_details = {\n",
        "    101: {'name': 'Susmoy', 'age': 25, 'salary': 50000}\n",
        "\n",
        "}\n",
        "\n",
        "def search_key(nested_dict,key):\n",
        "    for outer_key,inner_dict in nested_dict.items():\n",
        "        if key in inner_dict:\n",
        "            return inner_dict[key]\n",
        "    return \"Key Not Found\"\n",
        "\n",
        "key_to_search = input(\"Enter the key to search: \")\n",
        "\n",
        "result = search_key(employee_details,key_to_search)\n",
        "\n",
        "print(result)"
      ],
      "metadata": {
        "colab": {
          "base_uri": "https://localhost:8080/"
        },
        "id": "cNqM7LDeGtd6",
        "outputId": "3c330ead-5fe7-432f-fbb8-a3d91944880f"
      },
      "execution_count": null,
      "outputs": [
        {
          "output_type": "stream",
          "name": "stdout",
          "text": [
            "Enter the key to search: age\n",
            "25\n"
          ]
        }
      ]
    }
  ]
}