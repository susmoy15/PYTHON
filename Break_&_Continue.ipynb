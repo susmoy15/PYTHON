{
  "nbformat": 4,
  "nbformat_minor": 0,
  "metadata": {
    "colab": {
      "provenance": [],
      "authorship_tag": "ABX9TyMAQppG9zKHfCIWlxPmzLsx",
      "include_colab_link": true
    },
    "kernelspec": {
      "name": "python3",
      "display_name": "Python 3"
    },
    "language_info": {
      "name": "python"
    }
  },
  "cells": [
    {
      "cell_type": "markdown",
      "metadata": {
        "id": "view-in-github",
        "colab_type": "text"
      },
      "source": [
        "<a href=\"https://colab.research.google.com/github/susmoy15/PYTHON/blob/main/Break_%26_Continue.ipynb\" target=\"_parent\"><img src=\"https://colab.research.google.com/assets/colab-badge.svg\" alt=\"Open In Colab\"/></a>"
      ]
    },
    {
      "cell_type": "markdown",
      "source": [
        "**92. Prime Number Checker:** Write a Python program that takes a number as input and determines if it is a prime number or not. Use a `for` loop to check for factors. If a factor is found, `break` out of the loop"
      ],
      "metadata": {
        "id": "R_5_u-yPL9bR"
      }
    },
    {
      "cell_type": "code",
      "source": [
        "def prime_number(number):\n",
        "    if number <=1:\n",
        "       return False\n",
        "\n",
        "    for i in range(2,int(number**0.5)+1):\n",
        "        if number % i == 0:\n",
        "            return False\n",
        "    return True\n",
        "num = int(input(\"Enter a number: \"))\n",
        "\n",
        "if prime_number(num):\n",
        "    print(f\"{num} is a prime number.\")\n",
        "else:\n",
        "    print(f\"{num} is not a prime number.\")"
      ],
      "metadata": {
        "id": "4dDCLRLlMBYx",
        "colab": {
          "base_uri": "https://localhost:8080/"
        },
        "outputId": "a2e4eae9-1185-4bc1-c204-9b1a49d98ef6"
      },
      "execution_count": null,
      "outputs": [
        {
          "output_type": "stream",
          "name": "stdout",
          "text": [
            "Enter a number: 12\n",
            "12 is not a prime number.\n"
          ]
        }
      ]
    },
    {
      "cell_type": "markdown",
      "source": [
        "**93. Even Number Printer:** Write a Python program to print all even numbers from 1 to 20. Use a `for` loop and `continue` to skip odd numbers."
      ],
      "metadata": {
        "id": "vyd31jjSwHwZ"
      }
    },
    {
      "cell_type": "code",
      "source": [
        "for num in range(1,21):\n",
        "  if num % 2 != 0:\n",
        "    continue\n",
        "  print(num)\n"
      ],
      "metadata": {
        "colab": {
          "base_uri": "https://localhost:8080/"
        },
        "id": "hCx9ODhIwKX5",
        "outputId": "56720b44-bf5d-40e6-a3d7-f04f99885010"
      },
      "execution_count": null,
      "outputs": [
        {
          "output_type": "stream",
          "name": "stdout",
          "text": [
            "2\n",
            "4\n",
            "6\n",
            "8\n",
            "10\n",
            "12\n",
            "14\n",
            "16\n",
            "18\n",
            "20\n"
          ]
        }
      ]
    },
    {
      "cell_type": "markdown",
      "source": [
        "**94. Password Validator:** Write a Python program that takes a password as input and checks if it meets the following criteria: at least 8 characters long, contains both uppercase and lowercase letters, and has at least one digit. If the password is valid, print “Password accepted.” If not, use `continue` to prompt the user to enter a valid password."
      ],
      "metadata": {
        "id": "fZHfYuboxhtx"
      }
    },
    {
      "cell_type": "code",
      "source": [
        "while True:\n",
        "\n",
        "  password = input(\"Enter a password:\")\n",
        "\n",
        "  if len(password) < 8:\n",
        "    print(\"Password must be at least 8 characters long.\")\n",
        "    continue\n",
        "\n",
        "  has_upper = False\n",
        "  for char in password:\n",
        "    if char.isupper():\n",
        "      has_upper = True\n",
        "      break\n",
        "\n",
        "  if not has_upper:\n",
        "    print(\"Password must contain at least one uppercase letter.\")\n",
        "    continue\n",
        "\n",
        "\n",
        "  has_lower = False\n",
        "  for char in password:\n",
        "    if char.islower():\n",
        "      has_lower = True\n",
        "      break\n",
        "\n",
        "  if not has_lower:\n",
        "    print(\"Password must contain at least one lowercase letter.\")\n",
        "    continue\n",
        "\n",
        "  has_digit = False\n",
        "  for char in password:\n",
        "    if char.isdigit():\n",
        "      has_digit = True\n",
        "      break\n",
        "\n",
        "  if not has_digit:\n",
        "    print(\"Password must contain at least one digit.\")\n",
        "    continue\n",
        "\n",
        "  print(\"Password accepted.\")\n",
        "  break\n"
      ],
      "metadata": {
        "colab": {
          "base_uri": "https://localhost:8080/"
        },
        "id": "MdHcj1uj3itr",
        "outputId": "9fab1696-29ec-4d8f-e952-88e37e5ead36"
      },
      "execution_count": null,
      "outputs": [
        {
          "output_type": "stream",
          "name": "stdout",
          "text": [
            "Enter a password:@#$%%^&**Su7\n",
            "Password accepted.\n"
          ]
        }
      ]
    },
    {
      "cell_type": "markdown",
      "source": [
        "**95. Divisible by 3 or 5:** Write a Python program to print all numbers from 1 to 50 that are divisible by either 3 or 5. Use a `for` loop and `continue` to skip numbers that are not divisible by either 3 or 5"
      ],
      "metadata": {
        "id": "ZLXXXXN2-_WV"
      }
    },
    {
      "cell_type": "code",
      "source": [
        "for num in range(1,51):\n",
        "    if num % 3 and num % 5:\n",
        "      continue\n",
        "    print(num)"
      ],
      "metadata": {
        "colab": {
          "base_uri": "https://localhost:8080/"
        },
        "id": "5TUL9-aL_Hd2",
        "outputId": "103959b1-bcd9-417d-a688-3007e2b865ba"
      },
      "execution_count": null,
      "outputs": [
        {
          "output_type": "stream",
          "name": "stdout",
          "text": [
            "3\n",
            "5\n",
            "6\n",
            "9\n",
            "10\n",
            "12\n",
            "15\n",
            "18\n",
            "20\n",
            "21\n",
            "24\n",
            "25\n",
            "27\n",
            "30\n",
            "33\n",
            "35\n",
            "36\n",
            "39\n",
            "40\n",
            "42\n",
            "45\n",
            "48\n",
            "50\n"
          ]
        }
      ]
    },
    {
      "cell_type": "markdown",
      "source": [
        "**96. Positive Number Sum:** Write a Python program that takes positive numbers as input until a negative number is entered. Then, calculate and print the sum of all positive numbers entered. Use a `while` loop and `break` to exit the loop when a negative number is encountered."
      ],
      "metadata": {
        "id": "5_RlV6rFJT53"
      }
    },
    {
      "cell_type": "code",
      "source": [
        "total_sum = 0\n",
        "while True:\n",
        "  number = int(input(\"Enter a positive number: \"))\n",
        "  if number < 0:\n",
        "    break\n",
        "  total_sum += number\n",
        "print(\"The sum of all positive numbers entered is:\",total_sum)"
      ],
      "metadata": {
        "colab": {
          "base_uri": "https://localhost:8080/"
        },
        "id": "BR7N4djvJePH",
        "outputId": "3555d05e-4712-4647-f640-3d1fe8e25da2"
      },
      "execution_count": null,
      "outputs": [
        {
          "output_type": "stream",
          "name": "stdout",
          "text": [
            "Enter a positive number: 0\n",
            "Enter a positive number: 8\n",
            "Enter a positive number: 8\n",
            "Enter a positive number: -5\n",
            "The sum of all positive numbers entered is: 16\n"
          ]
        }
      ]
    },
    {
      "cell_type": "markdown",
      "source": [
        "**97. Word Palindrome Checker:** Write a Python program that takes a word as input and checks if it is a palindrome (reads the same forwards and backward). Use `continue` to skip checking the word if its length is less than 3 characters."
      ],
      "metadata": {
        "id": "JjMBezG8LLec"
      }
    },
    {
      "cell_type": "code",
      "source": [
        "word = input(\"Enter a word: \")\n",
        "if len(word)<3:\n",
        "  print(\"Words will be more than 3 characters.\")\n",
        "else:\n",
        "  word_lower = word.lower()\n",
        "\n",
        "  if word_lower == word_lower[::-1]:\n",
        "    print(f\"{word} is a palindrome.\")\n",
        "  else:\n",
        "    print(f\"{word} is not a palindrome.\")"
      ],
      "metadata": {
        "colab": {
          "base_uri": "https://localhost:8080/"
        },
        "id": "6OY4j8XwLO69",
        "outputId": "c1873b06-fecb-482e-b7af-6cfccced5505"
      },
      "execution_count": null,
      "outputs": [
        {
          "output_type": "stream",
          "name": "stdout",
          "text": [
            "Enter a word: ok\n",
            "Words will be more than 3 characters.\n"
          ]
        }
      ]
    },
    {
      "cell_type": "markdown",
      "source": [
        "**98. Odd Number Finder:** Write a Python program to find the first odd number from a list of integers. Use a `for` loop and `break` to stop the loop when the first odd number is found."
      ],
      "metadata": {
        "id": "45qT4ocuQKXM"
      }
    },
    {
      "cell_type": "code",
      "source": [
        "number_list = [2,4,3,5,7,8]\n",
        "for number in number_list:\n",
        "  if number % 2 != 0:\n",
        "    print(f\"The first odd number is :{number}\")\n",
        "    break"
      ],
      "metadata": {
        "colab": {
          "base_uri": "https://localhost:8080/"
        },
        "id": "zxUw-0uRQhW8",
        "outputId": "f4cb8ef4-e88d-4897-e401-2fe9ccf7aa35"
      },
      "execution_count": null,
      "outputs": [
        {
          "output_type": "stream",
          "name": "stdout",
          "text": [
            "The first odd number is :3\n"
          ]
        }
      ]
    },
    {
      "cell_type": "markdown",
      "source": [
        "**99. Number Guessing Game:** Write a Python program that generates a random number between 1 and 100 and lets the user guess the number. Use a `while` loop, `break` when the correct number is guessed, and `continue` to keep prompting the user until they guess correctly."
      ],
      "metadata": {
        "id": "9fYeYmCjRtOQ"
      }
    },
    {
      "cell_type": "code",
      "source": [
        "guess_number = 15\n",
        "number = None\n",
        "while number != guess_number:\n",
        "  number = int(input(\"Enter your guess: \"))\n",
        "  if number < guess_number:\n",
        "        print(\"Too low! Try again.\")\n",
        "  elif number > guess_number:\n",
        "        print(\"Too high! Try again.\")\n",
        "  else:\n",
        "        print(\"Congratulations! You guessed the correct number!\")\n",
        "        break"
      ],
      "metadata": {
        "id": "Vl9taUAqRwth",
        "colab": {
          "base_uri": "https://localhost:8080/"
        },
        "outputId": "0649d553-4e66-4a68-a075-2176dede2360"
      },
      "execution_count": null,
      "outputs": [
        {
          "output_type": "stream",
          "name": "stdout",
          "text": [
            "Enter your guess: 5\n",
            "Too low! Try again.\n",
            "Enter your guess: 15\n",
            "Congratulations! You guessed the correct number!\n"
          ]
        }
      ]
    },
    {
      "cell_type": "markdown",
      "source": [
        "**100. Vowel Counter:** Write a Python program that takes a string as input and counts the number of vowels (a, e, i, o, u) in it. Use a `for` loop and `continue` to skip counting non-vowel characters."
      ],
      "metadata": {
        "id": "Xj2QgcpSH2Lv"
      }
    },
    {
      "cell_type": "code",
      "source": [
        "string = input(\"Enter a string:\")\n",
        "vowel_count = 0\n",
        "vowels = \"aeiouAEIOU\"\n",
        "for char in string:\n",
        "  if char in vowels:\n",
        "    vowel_count +=1\n",
        "  else:\n",
        "    continue\n",
        "\n",
        "print(f\"The number of vowels in the string: {vowel_count}\")"
      ],
      "metadata": {
        "id": "Clc06yKbH7nQ",
        "colab": {
          "base_uri": "https://localhost:8080/"
        },
        "outputId": "ee58310b-4757-44f1-d257-fe6e4b760a09"
      },
      "execution_count": null,
      "outputs": [
        {
          "output_type": "stream",
          "name": "stdout",
          "text": [
            "Enter a string:list of value\n",
            "The number of vowels in the string: 5\n"
          ]
        }
      ]
    },
    {
      "cell_type": "markdown",
      "source": [
        "**101. Unique Characters:** Write a Python program that takes a string as input and checks if it contains all unique characters (no character repeats). Use a `for` loop and `break` when a character repeats."
      ],
      "metadata": {
        "id": "BJh9NX-lCUjn"
      }
    },
    {
      "cell_type": "code",
      "source": [
        "def unique_characters(word):\n",
        "  seen =  set()\n",
        "  for char in word:\n",
        "    if char in seen:\n",
        "      print(\"The string does not have all unique characters\")\n",
        "      break\n",
        "    seen.add(char)\n",
        "  else:\n",
        "    print(\"The string has all unique characters\")\n",
        "user_input = input(\"Enter a string:\")\n",
        "unique_characters(user_input)"
      ],
      "metadata": {
        "colab": {
          "base_uri": "https://localhost:8080/"
        },
        "id": "ocwHyXSACXKf",
        "outputId": "ec6ff5d2-54fb-4223-cb24-c4b255f9aca8"
      },
      "execution_count": null,
      "outputs": [
        {
          "output_type": "stream",
          "name": "stdout",
          "text": [
            "Enter a string:break\n",
            "The string has all unique characters\n"
          ]
        }
      ]
    }
  ]
}