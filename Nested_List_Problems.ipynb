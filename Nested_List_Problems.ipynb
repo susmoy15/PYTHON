{
  "nbformat": 4,
  "nbformat_minor": 0,
  "metadata": {
    "colab": {
      "provenance": [],
      "authorship_tag": "ABX9TyNwiskiyajd8d2sz1lrLVcS",
      "include_colab_link": true
    },
    "kernelspec": {
      "name": "python3",
      "display_name": "Python 3"
    },
    "language_info": {
      "name": "python"
    }
  },
  "cells": [
    {
      "cell_type": "markdown",
      "metadata": {
        "id": "view-in-github",
        "colab_type": "text"
      },
      "source": [
        "<a href=\"https://colab.research.google.com/github/susmoy15/PYTHON/blob/main/Nested_List_Problems.ipynb\" target=\"_parent\"><img src=\"https://colab.research.google.com/assets/colab-badge.svg\" alt=\"Open In Colab\"/></a>"
      ]
    },
    {
      "cell_type": "markdown",
      "source": [
        "**59. Nested List Element Access:** Given a nested list, write a Python program to access and print specific elements from it."
      ],
      "metadata": {
        "id": "d96133oSSIln"
      }
    },
    {
      "cell_type": "code",
      "source": [
        "nested_list = [[1,2,3],[4,5,8],[2,3,5]]\n",
        "\n",
        "print(\"First element of the first sublist:\", nested_list[0][0])\n",
        "print(\"Second element of the second sublist:\", nested_list[1][1])\n",
        "print(\"Third element of the third sublist:\", nested_list[2][2])\n",
        "print(\"Second sublist:\", nested_list[1])"
      ],
      "metadata": {
        "colab": {
          "base_uri": "https://localhost:8080/"
        },
        "id": "DiwZFdtrSMfm",
        "outputId": "a0304416-5c32-46df-dae8-8b75fac3f47e"
      },
      "execution_count": null,
      "outputs": [
        {
          "output_type": "stream",
          "name": "stdout",
          "text": [
            "First element of the first sublist: 1\n",
            "Second element of the second sublist: 5\n",
            "Third element of the third sublist: 5\n",
            "Second sublist: [4, 5, 8]\n"
          ]
        }
      ]
    },
    {
      "cell_type": "markdown",
      "source": [
        "**60. Nested List Flattening:** Write a Python program to flatten a nested list and convert it into a single-dimensional list."
      ],
      "metadata": {
        "id": "1cYz4ZhXS1Je"
      }
    },
    {
      "cell_type": "code",
      "source": [
        "nested_list = [[1,2],[3,5,2,8],[2,5,8,4]]\n",
        "\n",
        "def flatten_list(nested_list):\n",
        "  if not nested_list:\n",
        "    return []\n",
        "\n",
        "  flattened = []\n",
        "  for item in nested_list:\n",
        "    if isinstance(item,list):\n",
        "      flattened.extend(flatten_list(item))\n",
        "    else:\n",
        "      flattened.append(item)\n",
        "  return flattened\n",
        "flattened_list = flatten_list(nested_list)\n",
        "print(\"Flattened Deeply Nested List:\", flattened_list)\n"
      ],
      "metadata": {
        "colab": {
          "base_uri": "https://localhost:8080/"
        },
        "id": "fBh-7G0dS4Xu",
        "outputId": "e42a94a8-1653-454f-cb82-babb9e025dd2"
      },
      "execution_count": null,
      "outputs": [
        {
          "output_type": "stream",
          "name": "stdout",
          "text": [
            "Flattened Deeply Nested List: [1, 2, 3, 5, 2, 8, 2, 5, 8, 4]\n"
          ]
        }
      ]
    },
    {
      "cell_type": "markdown",
      "source": [
        "**61. Nested List Sorting:** Given a nested list containing lists of integers, write a Python program to sort the sublists based on their lengths."
      ],
      "metadata": {
        "id": "EVqdZJ_dawkV"
      }
    },
    {
      "cell_type": "code",
      "source": [
        "nested_list = [[10, 20, 30], [1, 2], [100, 200, 300, 400], [5, 10, 15]]\n",
        "sorted_nested_list = sorted(nested_list,key=len)\n",
        "print(\"Sorted Nested List based on sublist lengths:\", sorted_nested_list)"
      ],
      "metadata": {
        "colab": {
          "base_uri": "https://localhost:8080/"
        },
        "id": "Nt6D9Tjuaz0M",
        "outputId": "539e4799-dfe0-460c-9a25-e6f18964ee9e"
      },
      "execution_count": null,
      "outputs": [
        {
          "output_type": "stream",
          "name": "stdout",
          "text": [
            "Sorted Nested List based on sublist lengths: [[1, 2], [10, 20, 30], [5, 10, 15], [100, 200, 300, 400]]\n"
          ]
        }
      ]
    },
    {
      "cell_type": "markdown",
      "source": [
        "**62. List of Tuples Conversion:** Given a nested list containing tuples of (x, y) coordinates, write a Python program to convert it into a list of x-coordinates and a list of y-coordinates."
      ],
      "metadata": {
        "id": "u3OtESReh20T"
      }
    },
    {
      "cell_type": "code",
      "source": [
        "nested_list = [(1, 2), (3, 4), (5, 6), (7, 8)]\n",
        "x_coordinates = [x for x, y in nested_list]\n",
        "y_coordinates = [y for x, y in nested_list]\n",
        "print(\"X-coordinates:\", x_coordinates)\n",
        "print(\"Y-coordinates:\", y_coordinates)"
      ],
      "metadata": {
        "colab": {
          "base_uri": "https://localhost:8080/"
        },
        "id": "w_4PFd2Jh7I7",
        "outputId": "378279cd-0b03-49c8-a403-ba73d84d1b09"
      },
      "execution_count": null,
      "outputs": [
        {
          "output_type": "stream",
          "name": "stdout",
          "text": [
            "X-coordinates: [1, 3, 5, 7]\n",
            "Y-coordinates: [2, 4, 6, 8]\n"
          ]
        }
      ]
    },
    {
      "cell_type": "markdown",
      "source": [
        "**63. Matrix Transpose:** Write a Python program to transpose a given matrix represented as a nested list."
      ],
      "metadata": {
        "id": "PgB_p8Lbu9D0"
      }
    },
    {
      "cell_type": "code",
      "source": [
        "def transpose_matrix(matrix):\n",
        "    return [list(row) for row in zip(*matrix)]\n",
        "matrix = [\n",
        "    [1, 2, 3],\n",
        "    [4, 5, 6],\n",
        "    [7, 8, 9]\n",
        "]\n",
        "\n",
        "transposed = transpose_matrix(matrix)\n",
        "print(\"Original Matrix:\")\n",
        "for row in matrix:\n",
        "    print(row)\n",
        "print(\"\\nTransposed Matrix:\")\n",
        "for row in transposed:\n",
        "    print(row)\n"
      ],
      "metadata": {
        "id": "pMx3fesbvA-0",
        "colab": {
          "base_uri": "https://localhost:8080/"
        },
        "outputId": "eefa0d10-3029-4a38-f0c9-3686b5a24be5"
      },
      "execution_count": null,
      "outputs": [
        {
          "output_type": "stream",
          "name": "stdout",
          "text": [
            "Original Matrix:\n",
            "[1, 2, 3]\n",
            "[4, 5, 6]\n",
            "[7, 8, 9]\n",
            "\n",
            "Transposed Matrix:\n",
            "[1, 4, 7]\n",
            "[2, 5, 8]\n",
            "[3, 6, 9]\n"
          ]
        }
      ]
    },
    {
      "cell_type": "markdown",
      "source": [
        "**64. Nested List Concatenation:** Given a list of nested lists, write a Python program to concatenate all the sublists into a single flat list."
      ],
      "metadata": {
        "id": "bezvMMQSNrlI"
      }
    },
    {
      "cell_type": "code",
      "source": [
        "def flatten_list(nested_list):\n",
        "  return [item for sublist in nested_list for item in sublist]\n",
        "\n",
        "nested_list = [[1, 2, 3], [4, 5], [6, 7, 8, 9]]\n",
        "flattened_list = flatten_list(nested_list)\n",
        "print(\"Flattened List:\", flattened_list)"
      ],
      "metadata": {
        "colab": {
          "base_uri": "https://localhost:8080/"
        },
        "id": "1Wr_FVttOJIY",
        "outputId": "3f398df4-8e3e-40b9-e1ad-0c19f018d2b5"
      },
      "execution_count": null,
      "outputs": [
        {
          "output_type": "stream",
          "name": "stdout",
          "text": [
            "Flattened List: [1, 2, 3, 4, 5, 6, 7, 8, 9]\n"
          ]
        }
      ]
    },
    {
      "cell_type": "markdown",
      "source": [
        "**65. Count Even Numbers:** Write a Python program to count the number of even numbers in a nested list."
      ],
      "metadata": {
        "id": "-gHSxVoZQUm5"
      }
    },
    {
      "cell_type": "code",
      "source": [
        "def count_and_get_even_numbers(nested_list):\n",
        "    even_numbers = [item for sublist in nested_list for item in sublist if item % 2 == 0]\n",
        "    count = len(even_numbers)\n",
        "    return count, even_numbers\n",
        "nested_list = [\n",
        "    [1, 2, 3],\n",
        "    [4, 5, 6],\n",
        "    [7, 8, 9]\n",
        "]\n",
        "even_count, even_values = count_and_get_even_numbers(nested_list)\n",
        "print(\"Count of even numbers:\", even_count)\n",
        "print(\"Even numbers:\", even_values)"
      ],
      "metadata": {
        "colab": {
          "base_uri": "https://localhost:8080/"
        },
        "id": "mUu3crPpQYdC",
        "outputId": "243f2478-62da-42fc-911e-646ef97527c1"
      },
      "execution_count": null,
      "outputs": [
        {
          "output_type": "stream",
          "name": "stdout",
          "text": [
            "Count of even numbers: 4\n",
            "Even numbers: [2, 4, 6, 8]\n"
          ]
        }
      ]
    },
    {
      "cell_type": "markdown",
      "source": [
        "**66. Maximum Element in Nested List:** Write a Python program to find the maximum element in a nested list of integers."
      ],
      "metadata": {
        "id": "GO_KS09Vq-_c"
      }
    },
    {
      "cell_type": "code",
      "source": [
        "def find_max(nested_list):\n",
        "\n",
        "  flat_list = []\n",
        "\n",
        "  def flatten(nested):\n",
        "    for item in nested:\n",
        "      if isinstance(item,list):\n",
        "        flatten(item)\n",
        "      else:\n",
        "        flat_list.append(item)\n",
        "  flatten(nested_list)\n",
        "  return max(flat_list)\n",
        "\n",
        "\n",
        "nested_list = [[3, 5], [2, 8, [1, 4]], [9, 7]]\n",
        "Maximum = find_max(nested_list)\n",
        "print(\"Maximum Element:\",Maximum)"
      ],
      "metadata": {
        "id": "NKeXzmNwrCdb",
        "colab": {
          "base_uri": "https://localhost:8080/"
        },
        "outputId": "be8f1755-f549-43bc-aa58-4ff87ab0c993"
      },
      "execution_count": null,
      "outputs": [
        {
          "output_type": "stream",
          "name": "stdout",
          "text": [
            "Maximum Element: 9\n"
          ]
        }
      ]
    },
    {
      "cell_type": "markdown",
      "source": [
        "**67. Diagonal Sum of Matrix:** Given a square matrix represented as a nested list, write a Python program to calculate the sum of the elements in the main diagonal."
      ],
      "metadata": {
        "id": "4KWgVfPIcRlI"
      }
    },
    {
      "cell_type": "code",
      "source": [
        "def diagonal_sum(value):\n",
        "  total = 0\n",
        "  for i in range(len(matrix)):\n",
        "    total+=matrix[i][i]\n",
        "  return total\n",
        "matrix = [\n",
        "    [1, 2, 3],\n",
        "    [4, 5, 6],\n",
        "    [7, 8, 9]\n",
        "]\n",
        "result = diagonal_sum(matrix)\n",
        "print(\"Sum of the main diagonal:\", result)"
      ],
      "metadata": {
        "colab": {
          "base_uri": "https://localhost:8080/"
        },
        "id": "0uBho0X4cUyI",
        "outputId": "a77b77f6-ee38-4a4d-e72c-a3cc6604528f"
      },
      "execution_count": null,
      "outputs": [
        {
          "output_type": "stream",
          "name": "stdout",
          "text": [
            "Sum of the main diagonal: 15\n"
          ]
        }
      ]
    },
    {
      "cell_type": "markdown",
      "source": [
        "**68. Nested List Element Search:** Write a Python program to search for a specific element in a nested list and return its position (row and column indices)."
      ],
      "metadata": {
        "id": "_EilRiedl5cE"
      }
    },
    {
      "cell_type": "code",
      "source": [
        "def search_element(matrix,target):\n",
        "  for i in range(len(matrix)):\n",
        "    for j in range(len(matrix)):\n",
        "      if matrix[i][j] == target:\n",
        "        return (i,j)\n",
        "  return None\n",
        "\n",
        "matrix = [\n",
        "    [1, 2, 3],\n",
        "    [4, 5, 6],\n",
        "    [7, 8, 9]\n",
        "]\n",
        "target = int(input(\"Enter the target value to search for: \"))\n",
        "result = search_element(matrix,target)\n",
        "if result:\n",
        "  print(f\"Element {target} found at position: Row {result[0]}, Column {result[1]}\")\n",
        "else:\n",
        "  print(f\"Element{target} not found.\")"
      ],
      "metadata": {
        "colab": {
          "base_uri": "https://localhost:8080/"
        },
        "id": "z66mGnfcmBcs",
        "outputId": "f636c41a-d539-4ff8-8ede-18c19df30d5c"
      },
      "execution_count": null,
      "outputs": [
        {
          "output_type": "stream",
          "name": "stdout",
          "text": [
            "Enter the target value to search for: 8\n",
            "Element 8 found at position: Row 2, Column 1\n"
          ]
        }
      ]
    }
  ]
}