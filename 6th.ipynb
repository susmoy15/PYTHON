{
  "nbformat": 4,
  "nbformat_minor": 0,
  "metadata": {
    "colab": {
      "provenance": [],
      "authorship_tag": "ABX9TyPIP0WN1Pyfqe0iTh8v7wCi",
      "include_colab_link": true
    },
    "kernelspec": {
      "name": "python3",
      "display_name": "Python 3"
    },
    "language_info": {
      "name": "python"
    }
  },
  "cells": [
    {
      "cell_type": "markdown",
      "metadata": {
        "id": "view-in-github",
        "colab_type": "text"
      },
      "source": [
        "<a href=\"https://colab.research.google.com/github/susmoy15/PYTHON/blob/main/6th.ipynb\" target=\"_parent\"><img src=\"https://colab.research.google.com/assets/colab-badge.svg\" alt=\"Open In Colab\"/></a>"
      ]
    },
    {
      "cell_type": "code",
      "execution_count": null,
      "metadata": {
        "id": "keewcYvFv9xo"
      },
      "outputs": [],
      "source": [
        "#Function\n",
        "def greet_anyone():\n",
        "  print(\"How are you\")\n",
        "  print(\"Everything goes well\")\n",
        "print(\"Dont worry about that\")\n",
        "greet_anyone()\n",
        "print(\"okay bye\")\n",
        "\n",
        "def greet_anyone(first_name,last_name):\n",
        "  print(\"How are you\")\n",
        "  print(f'hi {first_name} {last_name}!')\n",
        "   \n",
        "print(\"Dont worry about that\")\n",
        "greet_anyone(\"Susmoy\",\"bless\")  #positional argument=\"susmoy\",keyword arguments=first=\"bless\"\n",
        "print(\"okay bye\")\n",
        "\n",
        "#Function return\n",
        "def square(number):\n",
        "  return number * number\n",
        "result = square(4) \n",
        "print(result)\n",
        "\n",
        "#emoji converter\n",
        "\n",
        "def emoji_converter(message):\n",
        "    words = message.split(\" \")\n",
        "    emojis = {\n",
        "      \":)\" : \"😃\",\n",
        "      \":(\" : \"😌\"\n",
        "  }\n",
        "    output = \" \"\n",
        "    for word in words:\n",
        "      output+=emojis.get(word,word) + \" \"\n",
        "    return output\n",
        "\n",
        "message = input(\">\")\n",
        "result = emoji_converter(message)\n",
        "\n",
        "print(result)\n",
        "\n",
        "#exception\n",
        "try:\n",
        "  age = int(input('Age= '))\n",
        "  income = 200000\n",
        "  risk = income/age\n",
        "  print(age)\n",
        "  print(risk)\n",
        "except ValueError:\n",
        "  print(\"Invalid value\")\n",
        "except ZeroDivisionError:\n",
        "  print(\"Age cannot be zero.\")"
      ]
    }
  ]
}