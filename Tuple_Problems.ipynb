{
  "nbformat": 4,
  "nbformat_minor": 0,
  "metadata": {
    "colab": {
      "provenance": [],
      "authorship_tag": "ABX9TyNzl25ElEwnwpX9NQIa23j2",
      "include_colab_link": true
    },
    "kernelspec": {
      "name": "python3",
      "display_name": "Python 3"
    },
    "language_info": {
      "name": "python"
    }
  },
  "cells": [
    {
      "cell_type": "markdown",
      "metadata": {
        "id": "view-in-github",
        "colab_type": "text"
      },
      "source": [
        "<a href=\"https://colab.research.google.com/github/susmoy15/PYTHON/blob/main/Tuple_Problems.ipynb\" target=\"_parent\"><img src=\"https://colab.research.google.com/assets/colab-badge.svg\" alt=\"Open In Colab\"/></a>"
      ]
    },
    {
      "cell_type": "markdown",
      "source": [
        "**49.Tuple Concatenation:** Write a Python program to concatenate two tuples and create a new tuple"
      ],
      "metadata": {
        "id": "3OhYMfTL2nnr"
      }
    },
    {
      "cell_type": "code",
      "source": [
        "tuple1 = (1,2,5)\n",
        "tuple2 = (8,1,4,5)\n",
        "\n",
        "New_tuple = tuple1+tuple2\n",
        "print(\"Concatenated tuple:\",New_tuple)"
      ],
      "metadata": {
        "colab": {
          "base_uri": "https://localhost:8080/"
        },
        "id": "CdJuOpNP2rtz",
        "outputId": "60b9f897-d264-4562-bc18-566a3deb4c5b"
      },
      "execution_count": null,
      "outputs": [
        {
          "output_type": "stream",
          "name": "stdout",
          "text": [
            "Concatenated tuple: (1, 2, 5, 8, 1, 4, 5)\n"
          ]
        }
      ]
    },
    {
      "cell_type": "markdown",
      "source": [
        "**50. Tuple Unpacking:** Given a tuple with three elements (x, y, z), write a Python program to unpack the tuple and assign the values to three variables."
      ],
      "metadata": {
        "id": "EzCCGOT938NU"
      }
    },
    {
      "cell_type": "code",
      "source": [
        "tuple_data = (10, 20, 30)\n",
        "x, y, z = tuple_data\n",
        "\n",
        "print(\"x =\", x)\n",
        "print(\"y =\", y)\n",
        "print(\"z =\", z)"
      ],
      "metadata": {
        "colab": {
          "base_uri": "https://localhost:8080/"
        },
        "id": "xoYdGx6L3_sM",
        "outputId": "2511d256-7f93-4ec7-a759-d46d9eaf7309"
      },
      "execution_count": null,
      "outputs": [
        {
          "output_type": "stream",
          "name": "stdout",
          "text": [
            "x = 10\n",
            "y = 20\n",
            "z = 30\n"
          ]
        }
      ]
    },
    {
      "cell_type": "markdown",
      "source": [
        "**51. Tuple Sorting:** Write a Python program to sort a tuple of integers in ascending order."
      ],
      "metadata": {
        "id": "1O9GxKU_4SPc"
      }
    },
    {
      "cell_type": "code",
      "source": [
        "tuple_data = (5, 2, 8, 1, 9)\n",
        "sorted_tuple = tuple(sorted(tuple_data))\n",
        "\n",
        "print(\"Sorted tuple:\", sorted_tuple)\n"
      ],
      "metadata": {
        "colab": {
          "base_uri": "https://localhost:8080/"
        },
        "id": "II3WFnMP4aZ0",
        "outputId": "1d11ed23-b6dd-437e-9af3-0c0c8ccf1115"
      },
      "execution_count": null,
      "outputs": [
        {
          "output_type": "stream",
          "name": "stdout",
          "text": [
            "Sorted tuple: (1, 2, 5, 8, 9)\n"
          ]
        }
      ]
    },
    {
      "cell_type": "markdown",
      "source": [
        "**52.Tuple Frequency Count:** Given a tuple containing various elements, write a Python program to count the frequency of a specific element in the tuple."
      ],
      "metadata": {
        "id": "YAg3Pq5V43Gs"
      }
    },
    {
      "cell_type": "code",
      "source": [
        "tuple_data = (1, 2, 3, 4, 2, 3, 2, 5, 6, 2)\n",
        "element_to_count = 2\n",
        "frequency = tuple_data.count(element_to_count)\n",
        "print(f\"The frequency of {element_to_count} in the tuple is: {frequency}\")"
      ],
      "metadata": {
        "colab": {
          "base_uri": "https://localhost:8080/"
        },
        "id": "vCnW7u1S48uk",
        "outputId": "f499ee6b-47e0-4d9f-e0c5-ae72a71b02f3"
      },
      "execution_count": null,
      "outputs": [
        {
          "output_type": "stream",
          "name": "stdout",
          "text": [
            "The frequency of 2 in the tuple is: 4\n"
          ]
        }
      ]
    },
    {
      "cell_type": "markdown",
      "source": [
        "**53. Tuple to List:** Write a Python program to convert a tuple into a list."
      ],
      "metadata": {
        "id": "VctbS3mK6foW"
      }
    },
    {
      "cell_type": "code",
      "source": [
        "tuple_data = (92,5,8,3,28,5)\n",
        "list_data= list(tuple_data)\n",
        "print(\"Converted List:\",list_data)"
      ],
      "metadata": {
        "colab": {
          "base_uri": "https://localhost:8080/"
        },
        "id": "snSxLapN6pPW",
        "outputId": "85bcce7f-8bdb-498b-b7dc-5ac461d38df2"
      },
      "execution_count": null,
      "outputs": [
        {
          "output_type": "stream",
          "name": "stdout",
          "text": [
            "Converted List: [92, 5, 8, 3, 28, 5]\n"
          ]
        }
      ]
    },
    {
      "cell_type": "markdown",
      "source": [
        "**54. Tuple Reversal:** Write a Python program to reverse a tuple without using any built-in functions."
      ],
      "metadata": {
        "id": "sIffkKrh7N5A"
      }
    },
    {
      "cell_type": "code",
      "source": [
        "tuple_data = (92,5,8,3,28,5)\n",
        "reversed_tuple = ()\n",
        "for item in tuple_data:\n",
        "    reversed_tuple = (item,) + reversed_tuple\n",
        "print(\"Reversed Tuple:\", reversed_tuple)\n",
        "\n",
        "\n",
        "#using builtin function:\n",
        "tuple_data = (92,5,8,3,28,5)\n",
        "reversed_tuple = tuple_data[::-1]\n",
        "print(\"Reversed Tuple:\", reversed_tuple)"
      ],
      "metadata": {
        "colab": {
          "base_uri": "https://localhost:8080/"
        },
        "id": "lRPeQv3fCZMV",
        "outputId": "b59b17fd-0d27-4b3d-f949-686bf0668a7a"
      },
      "execution_count": null,
      "outputs": [
        {
          "output_type": "stream",
          "name": "stdout",
          "text": [
            "Reversed Tuple: (5, 28, 3, 8, 5, 92)\n",
            "Reversed Tuple: (5, 28, 3, 8, 5, 92)\n"
          ]
        }
      ]
    },
    {
      "cell_type": "markdown",
      "source": [
        "**55. Tuple Slicing:** Given a tuple, write a Python program to extract a slice of elements from it."
      ],
      "metadata": {
        "id": "kfSAfFn6Ephe"
      }
    },
    {
      "cell_type": "code",
      "source": [
        "tuple_data = (1, 2, 3, 4, 5, 6, 7, 8, 9)\n",
        "tuple_slice = tuple_data[2:7]\n",
        "print(\"Sliced Tuple:\", tuple_slice)\n"
      ],
      "metadata": {
        "colab": {
          "base_uri": "https://localhost:8080/"
        },
        "id": "UjWUzfTNEufV",
        "outputId": "224563b0-ef4f-4696-eb43-6f30570407ce"
      },
      "execution_count": null,
      "outputs": [
        {
          "output_type": "stream",
          "name": "stdout",
          "text": [
            "Sliced Tuple: (3, 4, 5, 6, 7)\n"
          ]
        }
      ]
    },
    {
      "cell_type": "markdown",
      "source": [
        "**56. Tuple Operations:** Given two tuples of integers, write a Python program to perform element-wise addition, subtraction, and multiplication and create new tuples for each operation."
      ],
      "metadata": {
        "id": "zzQFpCKxFKIF"
      }
    },
    {
      "cell_type": "code",
      "source": [
        "tuple1 = (1, 2, 3, 4)\n",
        "tuple2 = (5, 6, 7, 8)\n",
        "addition_result = tuple(a + b for a, b in zip(tuple1, tuple2))\n",
        "subtraction_result = tuple(a - b for a, b in zip(tuple1, tuple2))\n",
        "multiplication_result = tuple(a * b for a, b in zip(tuple1, tuple2))\n",
        "print(\"Element-wise Addition:\", addition_result)\n",
        "print(\"Element-wise Subtraction:\", subtraction_result)\n",
        "print(\"Element-wise Multiplication:\", multiplication_result)"
      ],
      "metadata": {
        "colab": {
          "base_uri": "https://localhost:8080/"
        },
        "id": "ZnA6hQ73FN4m",
        "outputId": "0fbd09c8-447e-4647-ed52-7987cb64a515"
      },
      "execution_count": null,
      "outputs": [
        {
          "output_type": "stream",
          "name": "stdout",
          "text": [
            "Element-wise Addition: (6, 8, 10, 12)\n",
            "Element-wise Subtraction: (-4, -4, -4, -4)\n",
            "Element-wise Multiplication: (5, 12, 21, 32)\n"
          ]
        }
      ]
    },
    {
      "cell_type": "markdown",
      "source": [
        "**57. Tuple Membership Test:** Write a Python program that takes an element as input and checks if it exists in a given tuple."
      ],
      "metadata": {
        "id": "VAW4PxwCHRoW"
      }
    },
    {
      "cell_type": "code",
      "source": [
        "tuple_data = (10, 20, 30, 40, 50, 60)\n",
        "element = int(input(\"Enter an element to check if it exists in the tuple: \"))\n",
        "if element in tuple_data:\n",
        "    print(f\"{element} exists in the tuple.\")\n",
        "else:\n",
        "    print(f\"{element} does not exist in the tuple.\")"
      ],
      "metadata": {
        "colab": {
          "base_uri": "https://localhost:8080/"
        },
        "id": "67YYpG5NHTAG",
        "outputId": "b7c98405-62b1-43ec-ba3f-40c848be577a"
      },
      "execution_count": null,
      "outputs": [
        {
          "output_type": "stream",
          "name": "stdout",
          "text": [
            "Enter an element to check if it exists in the tuple: 5\n",
            "5 does not exist in the tuple.\n"
          ]
        }
      ]
    },
    {
      "cell_type": "markdown",
      "source": [
        "**58. Tuple Packing:** Write a Python program to pack three variables into a single tuple and print the tuple."
      ],
      "metadata": {
        "id": "G7PajY-gIG53"
      }
    },
    {
      "cell_type": "code",
      "source": [
        "x = 10\n",
        "y = 20\n",
        "z = 30\n",
        "packed_tuple = (x, y, z)\n",
        "print(\"Packed Tuple:\", packed_tuple)"
      ],
      "metadata": {
        "colab": {
          "base_uri": "https://localhost:8080/"
        },
        "id": "BlZUALwWIJ1f",
        "outputId": "c106f925-4e5a-44bb-bb13-243b38c51f55"
      },
      "execution_count": null,
      "outputs": [
        {
          "output_type": "stream",
          "name": "stdout",
          "text": [
            "Packed Tuple: (10, 20, 30)\n"
          ]
        }
      ]
    }
  ]
}