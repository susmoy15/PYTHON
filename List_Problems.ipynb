{
  "nbformat": 4,
  "nbformat_minor": 0,
  "metadata": {
    "colab": {
      "provenance": [],
      "authorship_tag": "ABX9TyNuiASoIgF4XgegiwUNprNv",
      "include_colab_link": true
    },
    "kernelspec": {
      "name": "python3",
      "display_name": "Python 3"
    },
    "language_info": {
      "name": "python"
    }
  },
  "cells": [
    {
      "cell_type": "markdown",
      "metadata": {
        "id": "view-in-github",
        "colab_type": "text"
      },
      "source": [
        "<a href=\"https://colab.research.google.com/github/susmoy15/PYTHON/blob/main/List_Problems.ipynb\" target=\"_parent\"><img src=\"https://colab.research.google.com/assets/colab-badge.svg\" alt=\"Open In Colab\"/></a>"
      ]
    },
    {
      "cell_type": "markdown",
      "source": [
        "**34.List Sum:** Write a Python program to find the sum of all elements in a given list of integers."
      ],
      "metadata": {
        "id": "TnBHASSQ_8EU"
      }
    },
    {
      "cell_type": "code",
      "source": [
        "def list_sum(numbers):\n",
        "  total  = 0\n",
        "  for number in numbers:\n",
        "    total += number\n",
        "  return total\n",
        "numbers = [1,5,6,8,3]\n",
        "result = list_sum(numbers)\n",
        "print(\"The sum of all elements are:\",result)"
      ],
      "metadata": {
        "colab": {
          "base_uri": "https://localhost:8080/"
        },
        "id": "8XCnna2J_9Zr",
        "outputId": "93b90950-fe5a-40e2-ddeb-fa1c83aaa6c5"
      },
      "execution_count": null,
      "outputs": [
        {
          "output_type": "stream",
          "name": "stdout",
          "text": [
            "The sum of all elements are: 23\n"
          ]
        }
      ]
    },
    {
      "cell_type": "markdown",
      "source": [
        "**35. List Average:** Write a Python program to calculate the average of all elements in a given list of integers."
      ],
      "metadata": {
        "id": "B3fTB6ATC2Wh"
      }
    },
    {
      "cell_type": "code",
      "source": [
        "def list_average(values):\n",
        "  average = 0\n",
        "  count = 0\n",
        "  for number in values:\n",
        "    average += number\n",
        "    count += 1\n",
        "  if count == 0:\n",
        "    return 0\n",
        "  return average/count\n",
        "\n",
        "values = [6,5,6,8,3]\n",
        "result = list_average(values)\n",
        "print(\"The average of all elements are:\",result)\n"
      ],
      "metadata": {
        "colab": {
          "base_uri": "https://localhost:8080/"
        },
        "id": "_4Vkx3dPC5Hx",
        "outputId": "a4c81b03-8ca5-495c-a011-785125c3565f"
      },
      "execution_count": null,
      "outputs": [
        {
          "output_type": "stream",
          "name": "stdout",
          "text": [
            "The average of all elements are: 5.6\n"
          ]
        }
      ]
    },
    {
      "cell_type": "markdown",
      "source": [
        "**36. List Max and Min:** Write a Python program to find the maximum and minimum values in a given list of integers."
      ],
      "metadata": {
        "id": "JcTj1WMbEy3J"
      }
    },
    {
      "cell_type": "code",
      "source": [
        "def list_min_max(values):\n",
        "  if len(values) == 0:\n",
        "    return None,None\n",
        "\n",
        "  max_value = values[0]\n",
        "  min_value = values[0]\n",
        "\n",
        "  for value in values:\n",
        "    if value>max_value:\n",
        "      max_value =  value\n",
        "    if value<min_value:\n",
        "      min_value = value\n",
        "  return max_value,min_value\n",
        "\n",
        "values = [88,59,64,7,2,67,34]\n",
        "max_value,min_value = list_min_max(values)\n",
        "print(\"The maximum value is:\",max_value)\n",
        "print(\"The minimum value is:\",min_value)\n",
        "\n",
        "\n"
      ],
      "metadata": {
        "colab": {
          "base_uri": "https://localhost:8080/"
        },
        "id": "bcqyxKzlE2vQ",
        "outputId": "7aadd91f-b6c9-4b55-d584-71e57fae6a88"
      },
      "execution_count": null,
      "outputs": [
        {
          "output_type": "stream",
          "name": "stdout",
          "text": [
            "The maximum value is: 8\n",
            "The minimum value is: 2\n"
          ]
        }
      ]
    },
    {
      "cell_type": "markdown",
      "source": [
        "**37. List Sorting:** Write a Python program to sort a list of integers in ascending order."
      ],
      "metadata": {
        "id": "8OCypJRjHRVv"
      }
    },
    {
      "cell_type": "code",
      "source": [
        "def sort_numbers(numbers):\n",
        "  numbers.sort()\n",
        "  return numbers\n",
        "numbers = [8,5,1,4,2,0,9,14]\n",
        "Sorted_numbers = sort_numbers(numbers)\n",
        "print(\"The number of all of integers in ascending order is:\",Sorted_numbers)\n"
      ],
      "metadata": {
        "colab": {
          "base_uri": "https://localhost:8080/"
        },
        "id": "TT6yoHc5HoEv",
        "outputId": "bfd894dd-71d3-4872-89de-b01a1742fbf1"
      },
      "execution_count": null,
      "outputs": [
        {
          "output_type": "stream",
          "name": "stdout",
          "text": [
            "The number of all of integers in ascending order is: [0, 1, 2, 4, 5, 8, 9, 14]\n"
          ]
        }
      ]
    },
    {
      "cell_type": "markdown",
      "source": [
        "**38. List Filtering:** Given a list of integers, write a Python program to create a new list that contains only the even numbers from the original list."
      ],
      "metadata": {
        "id": "inzJ4OR4UR0M"
      }
    },
    {
      "cell_type": "code",
      "source": [
        "def original_even(numbers):\n",
        "  even_numbers = []\n",
        "  for number in numbers:\n",
        "      if number % 2 ==0:\n",
        "        even_numbers.append(number)\n",
        "  even_numbers.sort()\n",
        "  return even_numbers\n",
        "\n",
        "numbers = [1,5,2,8,7,9,4,2]\n",
        "even_numbers = original_even(numbers)\n",
        "print(\"The even numbers are:\",even_numbers)"
      ],
      "metadata": {
        "colab": {
          "base_uri": "https://localhost:8080/"
        },
        "id": "rXGWAi9LUbTL",
        "outputId": "558effec-abf1-4ddb-d893-b7761a976f88"
      },
      "execution_count": null,
      "outputs": [
        {
          "output_type": "stream",
          "name": "stdout",
          "text": [
            "The even numbers are: [2, 2, 4, 8]\n"
          ]
        }
      ]
    },
    {
      "cell_type": "markdown",
      "source": [
        "**39. List Reversal:** Write a Python program to reverse a given list without using any built-in functions."
      ],
      "metadata": {
        "id": "k5aNGlo5WDE7"
      }
    },
    {
      "cell_type": "code",
      "source": [
        "def reverse_list(numbers):\n",
        "\n",
        "  if len(numbers) == 0:\n",
        "    return \"The list is empty.\"\n",
        "  start = 0\n",
        "  end = len(numbers)-1\n",
        "  while start<end:\n",
        "    numbers[start],numbers[end] = numbers[end],numbers[start]\n",
        "    start += 1\n",
        "    end -= 1\n",
        "  return numbers\n",
        "numbers = [5,6,8,9,2,1]\n",
        "reversed_numbers = reverse_list(numbers)\n",
        "print(\"The reversed list is:\",reversed_numbers)\n"
      ],
      "metadata": {
        "colab": {
          "base_uri": "https://localhost:8080/"
        },
        "id": "bjPWzbHNWEQK",
        "outputId": "5e9e47b8-f380-4da6-f62a-935ecfa18e8e"
      },
      "execution_count": null,
      "outputs": [
        {
          "output_type": "stream",
          "name": "stdout",
          "text": [
            "The reversed list is: [1, 2, 9, 8, 6, 5]\n"
          ]
        }
      ]
    },
    {
      "cell_type": "markdown",
      "source": [
        "**40. List Manipulation:** Given two lists of integers, write a Python program to create a new list that contains elements common to both lists."
      ],
      "metadata": {
        "id": "5glGIhXXaNkw"
      }
    },
    {
      "cell_type": "code",
      "source": [
        "def common_list(list1,list2):\n",
        "  common_numbers = []\n",
        "  for element in list1:\n",
        "    if element in list2:\n",
        "      common_numbers.append(element)\n",
        "  return common_numbers\n",
        "\n",
        "list1 = [1,2,5,1,8,9]\n",
        "list2 = [2,8,3,6,4,1,1]\n",
        "common = common_list(list1,list2)\n",
        "print(\"Common values are:\",common)"
      ],
      "metadata": {
        "colab": {
          "base_uri": "https://localhost:8080/"
        },
        "id": "7ALwlscXaPcw",
        "outputId": "5510ed1b-f67e-4d5b-9c0f-da55490f5a1a"
      },
      "execution_count": null,
      "outputs": [
        {
          "output_type": "stream",
          "name": "stdout",
          "text": [
            "Common values are: [1, 2, 1, 8]\n"
          ]
        }
      ]
    },
    {
      "cell_type": "markdown",
      "source": [
        "**41. List Element Count:** Write a Python program to count the occurrences of a specific element in a given list."
      ],
      "metadata": {
        "id": "fNS_3OcNsWkp"
      }
    },
    {
      "cell_type": "code",
      "source": [
        "def count_value(numbers,element):\n",
        "  return numbers.count(element)\n",
        "\n",
        "numbers = [5,5,4,2,8,9,7,7,7]\n",
        "element = 5\n",
        "count = count_value(numbers,element)\n",
        "print(\"The count of the element is:\",count)\n"
      ],
      "metadata": {
        "colab": {
          "base_uri": "https://localhost:8080/"
        },
        "id": "qMIpZT4fsYOI",
        "outputId": "6ebc1f48-8365-4274-954b-b76c2a966c6e"
      },
      "execution_count": null,
      "outputs": [
        {
          "output_type": "stream",
          "name": "stdout",
          "text": [
            "The count of the element is: 2\n"
          ]
        }
      ]
    },
    {
      "cell_type": "markdown",
      "source": [
        "**42. List Duplicates Removal:** Write a Python program to remove duplicates from a given list while preserving the order of the elements."
      ],
      "metadata": {
        "id": "qsVxn7WGvQMv"
      }
    },
    {
      "cell_type": "code",
      "source": [
        "def remove_duplicates(list1):\n",
        "  seen=set()\n",
        "  result = []\n",
        "\n",
        "  for item in list1:\n",
        "    if item not in seen:\n",
        "      result.append(item)\n",
        "      seen.add(item)\n",
        "  return result\n",
        "\n",
        "list1 = [2,2,3,5,6,8,1,11,1]\n",
        "result = remove_duplicates(list1)\n",
        "print(\"List after removing duplicates:\",result)"
      ],
      "metadata": {
        "colab": {
          "base_uri": "https://localhost:8080/"
        },
        "id": "lLTJUTaiv-CP",
        "outputId": "b951be1d-f813-4cda-a69a-ff4945b4ff86"
      },
      "execution_count": null,
      "outputs": [
        {
          "output_type": "stream",
          "name": "stdout",
          "text": [
            "List after removing duplicates: [2, 3, 5, 6, 8, 1, 11]\n"
          ]
        }
      ]
    },
    {
      "cell_type": "markdown",
      "source": [
        "**43. List Comprehension:** Given a list of integers, write a Python program to create a new list that contains the squares of the elements using list comprehension."
      ],
      "metadata": {
        "id": "Qc11P7nBC9kx"
      }
    },
    {
      "cell_type": "code",
      "source": [
        "def square_elements(list1):\n",
        "    return [x ** 2 for x in list1]\n",
        "numbers = [1, 2, 3, 4, 5]\n",
        "squared_numbers = square_elements(numbers)\n",
        "print(\"Squared numbers:\", squared_numbers)"
      ],
      "metadata": {
        "colab": {
          "base_uri": "https://localhost:8080/"
        },
        "id": "A7EqzUNPC-6J",
        "outputId": "94f77153-c07a-4b8a-e761-ca9316e92d25"
      },
      "execution_count": null,
      "outputs": [
        {
          "output_type": "stream",
          "name": "stdout",
          "text": [
            "Squared numbers: [1, 4, 9, 16, 25]\n"
          ]
        }
      ]
    }
  ]
}