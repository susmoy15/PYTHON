{
  "nbformat": 4,
  "nbformat_minor": 0,
  "metadata": {
    "colab": {
      "provenance": [],
      "authorship_tag": "ABX9TyPDGf9SSG4vHRvQZhXEOaV8",
      "include_colab_link": true
    },
    "kernelspec": {
      "name": "python3",
      "display_name": "Python 3"
    },
    "language_info": {
      "name": "python"
    }
  },
  "cells": [
    {
      "cell_type": "markdown",
      "metadata": {
        "id": "view-in-github",
        "colab_type": "text"
      },
      "source": [
        "<a href=\"https://colab.research.google.com/github/susmoy15/PYTHON/blob/main/5th.ipynb\" target=\"_parent\"><img src=\"https://colab.research.google.com/assets/colab-badge.svg\" alt=\"Open In Colab\"/></a>"
      ]
    },
    {
      "cell_type": "code",
      "execution_count": null,
      "metadata": {
        "colab": {
          "base_uri": "https://localhost:8080/"
        },
        "id": "r2UqPqFXSj5L",
        "outputId": "326a6f70-b778-4b8c-bf5f-382e15f1b35b"
      },
      "outputs": [
        {
          "output_type": "stream",
          "name": "stdout",
          "text": [
            "1\n",
            "(1, 2, 3, 4)\n",
            "6\n",
            "susmoy\n",
            "phone : 12345\n",
            "one two three four ! \n"
          ]
        }
      ],
      "source": [
        "#list\n",
        "numbers = [1,2,3,4]\n",
        "#tuple\n",
        "numbers = (1,2,3,4)\n",
        "print(numbers[0])\n",
        "print(numbers)\n",
        "\n",
        "coordinates = (1,2,6)\n",
        "x,y,z = coordinates\n",
        "print(z)\n",
        "\n",
        "#Dictionary_key\n",
        "customer={\n",
        "    'name':\"susmoy\",\n",
        "    'age':22,\n",
        "    'is_varidfied': True\n",
        "}\n",
        "print(customer['name'])\n",
        "\n",
        "phone = input(\"phone : \") \n",
        "digits = {\n",
        "    \"1\":\"one\",\n",
        "    \"2\":\"two\",\n",
        "    \"3\":\"three\",\n",
        "    \"4\":\"four\"\n",
        " \n",
        "}\n",
        "output = \"\"\n",
        "for ch in phone:\n",
        "  output += digits.get(ch,\"!\")+\" \"\n",
        "print(output) \n"
      ]
    }
  ]
}