{
  "nbformat": 4,
  "nbformat_minor": 0,
  "metadata": {
    "colab": {
      "provenance": [],
      "authorship_tag": "ABX9TyPoB/UdmL42h16l+P6Vz8Nj",
      "include_colab_link": true
    },
    "kernelspec": {
      "name": "python3",
      "display_name": "Python 3"
    },
    "language_info": {
      "name": "python"
    }
  },
  "cells": [
    {
      "cell_type": "markdown",
      "metadata": {
        "id": "view-in-github",
        "colab_type": "text"
      },
      "source": [
        "<a href=\"https://colab.research.google.com/github/susmoy15/PYTHON/blob/main/Problem_Solving(For_%26_While_Loops%2CNested_Loops).ipynb\" target=\"_parent\"><img src=\"https://colab.research.google.com/assets/colab-badge.svg\" alt=\"Open In Colab\"/></a>"
      ]
    },
    {
      "cell_type": "markdown",
      "source": [
        "**20. Sum of N Numbers:** Write a Python program using a for loop to calculate the sum of the first N natural numbers, where N is taken as input from the user."
      ],
      "metadata": {
        "id": "m5U9UrfxtMzf"
      }
    },
    {
      "cell_type": "code",
      "source": [
        "number = int(input(\"Give me a number: \"))\n",
        "sum = 0\n",
        "numbers = []\n",
        "for i in range(1,number+1):\n",
        "  sum += i\n",
        "  numbers.append(str(i))\n",
        "equation = \" + \".join(numbers)\n",
        "print(f\"The number of sum is:{equation} = {sum}\")\n"
      ],
      "metadata": {
        "colab": {
          "base_uri": "https://localhost:8080/"
        },
        "id": "F_QOiD1ftN7e",
        "outputId": "bcb2a3ae-8776-4ecc-bcb0-a0637932b24d"
      },
      "execution_count": null,
      "outputs": [
        {
          "output_type": "stream",
          "name": "stdout",
          "text": [
            "Give me a number: 5\n",
            "The number of sum is:1 + 2 + 3 + 4 + 5 = 15\n"
          ]
        }
      ]
    },
    {
      "cell_type": "markdown",
      "source": [
        "**21. Factorial Calculator:** Write a Python program using a while loop to calculate the factorial of a given number N."
      ],
      "metadata": {
        "id": "dFTZPyLkxHK9"
      }
    },
    {
      "cell_type": "code",
      "source": [
        "number = int(input(\"Give me a number: \"))\n",
        "\n",
        "factorial = 1\n",
        "i=1\n",
        "while i<=number:\n",
        "  factorial *=i\n",
        "  i+=1\n",
        "print(f\"The factorial of {number} is {factorial}\")"
      ],
      "metadata": {
        "colab": {
          "base_uri": "https://localhost:8080/"
        },
        "id": "FT_Xnf_3xJi2",
        "outputId": "8bc6ddda-e8fc-436b-cf04-b7ec85ee1bf4"
      },
      "execution_count": null,
      "outputs": [
        {
          "output_type": "stream",
          "name": "stdout",
          "text": [
            "Give me a number: 5\n",
            "The factorial of 5 is 120\n"
          ]
        }
      ]
    },
    {
      "cell_type": "markdown",
      "source": [
        "**22. Table of a Number:** Write a Python program using a for loop to print the multiplication table of a given number N."
      ],
      "metadata": {
        "id": "TrM6I6T9ymH-"
      }
    },
    {
      "cell_type": "code",
      "source": [
        "number = int(input(\"Give me a number: \"))\n",
        "sum = 1\n",
        "for i in range(1,number+1):\n",
        "  sum*=i\n",
        "  i+=1\n",
        "print(\"The multiplication of numbers is:\",{sum})\n",
        "\n"
      ],
      "metadata": {
        "colab": {
          "base_uri": "https://localhost:8080/"
        },
        "id": "liS7bhwVypmN",
        "outputId": "4fe4de96-05ae-442e-947d-419854c630cd"
      },
      "execution_count": null,
      "outputs": [
        {
          "output_type": "stream",
          "name": "stdout",
          "text": [
            "Give me a number: 5\n",
            "The multiplication of numbers is: {120}\n"
          ]
        }
      ]
    },
    {
      "cell_type": "markdown",
      "source": [
        "**23. Count Digits in a Number:** Write a Python program using a while loop to count the number of digits in a given integer N."
      ],
      "metadata": {
        "id": "WAE53eOG4FOt"
      }
    },
    {
      "cell_type": "code",
      "source": [
        "def count_digits(N):\n",
        "    count = 0\n",
        "    N = abs(N)\n",
        "    if N == 0:\n",
        "        return 1\n",
        "\n",
        "    while N > 0:\n",
        "        N = N // 10\n",
        "        count += 1\n",
        "    return count\n",
        "number = int(input(\"Enter a number: \"))\n",
        "print(\"Number of digits:\", count_digits(number))"
      ],
      "metadata": {
        "colab": {
          "base_uri": "https://localhost:8080/"
        },
        "id": "2qd6KhNS4J-V",
        "outputId": "63b0df4d-9886-4666-c199-a96cc526ce92"
      },
      "execution_count": null,
      "outputs": [
        {
          "output_type": "stream",
          "name": "stdout",
          "text": [
            "Enter a number: -58\n",
            "Number of digits: 2\n"
          ]
        }
      ]
    },
    {
      "cell_type": "markdown",
      "source": [
        "**24. Fibonacci Sequence:** Write a Python program using a for loop to generate the Fibonacci sequence up to a given limit N."
      ],
      "metadata": {
        "id": "YRNg1TX2xB1p"
      }
    },
    {
      "cell_type": "code",
      "source": [
        "def fibonaccci_seq(N):\n",
        "  a,b = 0,1\n",
        "  while a <= N:\n",
        "    print(a , end=' ')\n",
        "    a,b = b, a+b\n",
        "value = int(input(\"Enter a number: \"))\n",
        "fibonaccci_seq(value)"
      ],
      "metadata": {
        "colab": {
          "base_uri": "https://localhost:8080/"
        },
        "id": "lQR_oOn0xD65",
        "outputId": "ef4702c8-5aa0-46f4-eeac-42802bfd5f70"
      },
      "execution_count": null,
      "outputs": [
        {
          "output_type": "stream",
          "name": "stdout",
          "text": [
            "Enter a number: 100\n",
            "0 1 1 2 3 5 8 13 21 34 55 89 "
          ]
        }
      ]
    },
    {
      "cell_type": "markdown",
      "source": [
        "**25. Sum of Even Numbers:** Write a Python program using a while loop to calculate the sum of all even numbers between 1 and N, where N is taken as input from the user."
      ],
      "metadata": {
        "id": "bxBwc9dQ093u"
      }
    },
    {
      "cell_type": "code",
      "source": [
        "def even_num(N):\n",
        "  sum_even = 0\n",
        "  current_number = 2\n",
        "\n",
        "  while current_number <= N:\n",
        "    sum_even += current_number\n",
        "    current_number += 2\n",
        "  return sum_even\n",
        "\n",
        "\n",
        "N = int(input(\"Enter a number : \"))\n",
        "result =  even_num(N)\n",
        "\n",
        "print(f\"The sum of even numbers between 1 and {N} is: {result}\")"
      ],
      "metadata": {
        "colab": {
          "base_uri": "https://localhost:8080/"
        },
        "id": "croAtf6c1Bd3",
        "outputId": "0332d508-ba44-4ccb-a679-c9640e8867d3"
      },
      "execution_count": null,
      "outputs": [
        {
          "output_type": "stream",
          "name": "stdout",
          "text": [
            "Enter a number : 10\n",
            "The sum of even numbers between 1 and 10 is: 30\n"
          ]
        }
      ]
    },
    {
      "cell_type": "markdown",
      "source": [
        "**26. Print Patterns:** Write a Python program using nested for loops to print various patterns, such as a right-angled triangle, an inverted right-angled triangle, and so on."
      ],
      "metadata": {
        "id": "5w3RWNTz49zZ"
      }
    },
    {
      "cell_type": "code",
      "source": [
        "def right_angle_triangle(n):\n",
        "  print(\"Right-angled triangle:\")\n",
        "  for i in range(1,n+1):\n",
        "    print(\"*\" * i)\n",
        "right_angle_triangle(6)\n",
        "\n",
        "def left_angle_triangle(n):\n",
        "  print(\"Left-angled triangle:\")\n",
        "  for i in range(n, 0, -1 ):\n",
        "    print(\"*\" * i)\n",
        "left_angle_triangle(6)\n",
        "\n",
        "def Pyramid(n):\n",
        "  print(\"Pyramid triangle:\")\n",
        "  for i in range(1, n+1 ):\n",
        "    print(\" \" * (n-i) + \"*\" * (2*i-1))\n",
        "Pyramid(6)\n",
        "\n",
        "def inverted_Pyramid(n):\n",
        "  print(\"Inverted Pyramid triangle:\")\n",
        "  for i in range(n, 0, -1 ):\n",
        "    print(\" \" * (n-i) + \"*\" * (2*i-1))\n",
        "inverted_Pyramid(6)"
      ],
      "metadata": {
        "colab": {
          "base_uri": "https://localhost:8080/"
        },
        "id": "3kNIzDcV5BrB",
        "outputId": "c7785468-5235-4e38-e024-34caf118ef4b"
      },
      "execution_count": null,
      "outputs": [
        {
          "output_type": "stream",
          "name": "stdout",
          "text": [
            "Right-angled triangle:\n",
            "*\n",
            "**\n",
            "***\n",
            "****\n",
            "*****\n",
            "******\n",
            "Left-angled triangle:\n",
            "******\n",
            "*****\n",
            "****\n",
            "***\n",
            "**\n",
            "*\n",
            "Pyramid triangle:\n",
            "     *\n",
            "    ***\n",
            "   *****\n",
            "  *******\n",
            " *********\n",
            "***********\n",
            "Inverted Pyramid triangle:\n",
            "***********\n",
            " *********\n",
            "  *******\n",
            "   *****\n",
            "    ***\n",
            "     *\n"
          ]
        }
      ]
    },
    {
      "cell_type": "markdown",
      "source": [
        "**27. Prime Number Checker:** Write a Python program using a while loop to check if a given number N is prime or not."
      ],
      "metadata": {
        "id": "ZvgDiiYIQDcD"
      }
    },
    {
      "cell_type": "code",
      "source": [
        "def is_prime(N):\n",
        "    if N <= 1:\n",
        "        return False\n",
        "    divisor = 2\n",
        "    while divisor * divisor <= N:\n",
        "        if N % divisor == 0:\n",
        "            return False\n",
        "        divisor += 1\n",
        "    return True\n",
        "N = int(input(\"Enter a number: \"))\n",
        "if is_prime(N):\n",
        "    print(f\"{N} is a prime number.\")\n",
        "else:\n",
        "    print(f\"{N} is not a prime number.\")\n"
      ],
      "metadata": {
        "colab": {
          "base_uri": "https://localhost:8080/"
        },
        "id": "57MFSc6pQGuT",
        "outputId": "2e1ce68f-2aac-4123-a8dc-df1f49b28b65"
      },
      "execution_count": null,
      "outputs": [
        {
          "output_type": "stream",
          "name": "stdout",
          "text": [
            "Enter a number: 6\n",
            "6 is not a prime number.\n"
          ]
        }
      ]
    },
    {
      "cell_type": "markdown",
      "source": [
        "**28. List Manipulation:** Given a list of integers, write a Python program using a for loop to find the sum, average, maximum, and minimum values in the list."
      ],
      "metadata": {
        "id": "_S5vGJ_JWSgo"
      }
    },
    {
      "cell_type": "code",
      "source": [
        "def list_manipulation(numbers):\n",
        "\n",
        "  total_sum=0\n",
        "  max_value = numbers[0]\n",
        "  min_value = numbers[0]\n",
        "\n",
        "  for num in numbers:\n",
        "    total_sum += num\n",
        "    if num > max_value:\n",
        "      max_value = num\n",
        "    if num < min_value:\n",
        "      min_value = num\n",
        "\n",
        "  average = total_sum/len(numbers)\n",
        "  return total_sum, average, max_value, min_value\n",
        "numbers = list(map(int, input(\"Enter a list of integers separated by spaces: \").split()))\n",
        "total_sum, average, max_value, min_value = list_manipulation(numbers)\n",
        "print(f\"Sum: {total_sum}\")\n",
        "print(f\"Average: {average}\")\n",
        "print(f\"Maximum: {max_value}\")\n",
        "print(f\"Minimum: {min_value}\")"
      ],
      "metadata": {
        "colab": {
          "base_uri": "https://localhost:8080/"
        },
        "id": "WhQ-_VaCWU05",
        "outputId": "78d4559d-6066-46a7-e1e2-b0cd82ef11be"
      },
      "execution_count": null,
      "outputs": [
        {
          "output_type": "stream",
          "name": "stdout",
          "text": [
            "Enter a list of integers separated by spaces: 1 1 1 2 23 35 0\n",
            "Sum: 63\n",
            "Average: 9.0\n",
            "Maximum: 35\n",
            "Minimum: 0\n"
          ]
        }
      ]
    },
    {
      "cell_type": "markdown",
      "source": [
        "**29. Reverse String:** Write a Python program using a while loop to reverse a given string."
      ],
      "metadata": {
        "id": "J3ccc2qCh57j"
      }
    },
    {
      "cell_type": "code",
      "source": [
        "def reverse_string(string):\n",
        "  reversed_string = \"\"\n",
        "  index = len(string)-1\n",
        "\n",
        "  while index>=0:\n",
        "    reversed_string += string[index]\n",
        "    index -= 1\n",
        "  return reversed_string\n",
        "string = input(\"Enter a String: \")\n",
        "\n",
        "reversed_string = reverse_string(string)\n",
        "print(f\"The reversed string is: {reversed_string}\")"
      ],
      "metadata": {
        "colab": {
          "base_uri": "https://localhost:8080/"
        },
        "id": "osNji2Vgh8vk",
        "outputId": "dac07fe8-7111-404a-e6c9-4ee3e83d861b"
      },
      "execution_count": null,
      "outputs": [
        {
          "output_type": "stream",
          "name": "stdout",
          "text": [
            "Enter a String: Susmoy Bless\n",
            "The reversed string is: sselB yomsuS\n"
          ]
        }
      ]
    },
    {
      "cell_type": "markdown",
      "source": [
        "**30. Multiplication Table:** Write a Python program using nested loops to print the multiplication table from 1 to 10."
      ],
      "metadata": {
        "id": "lCUGgvf9yCFf"
      }
    },
    {
      "cell_type": "code",
      "source": [
        "for i in range(1,11):\n",
        "  for j in range(1,11):\n",
        "    print(f\"{i * j}\",end = \"\\t\")\n",
        "  print()"
      ],
      "metadata": {
        "colab": {
          "base_uri": "https://localhost:8080/"
        },
        "id": "wiPymUsMyGNI",
        "outputId": "7b6c6b90-8210-4488-eff3-3b10b707a1bd"
      },
      "execution_count": null,
      "outputs": [
        {
          "output_type": "stream",
          "name": "stdout",
          "text": [
            "1\t2\t3\t4\t5\t6\t7\t8\t9\t10\t\n",
            "2\t4\t6\t8\t10\t12\t14\t16\t18\t20\t\n",
            "3\t6\t9\t12\t15\t18\t21\t24\t27\t30\t\n",
            "4\t8\t12\t16\t20\t24\t28\t32\t36\t40\t\n",
            "5\t10\t15\t20\t25\t30\t35\t40\t45\t50\t\n",
            "6\t12\t18\t24\t30\t36\t42\t48\t54\t60\t\n",
            "7\t14\t21\t28\t35\t42\t49\t56\t63\t70\t\n",
            "8\t16\t24\t32\t40\t48\t56\t64\t72\t80\t\n",
            "9\t18\t27\t36\t45\t54\t63\t72\t81\t90\t\n",
            "10\t20\t30\t40\t50\t60\t70\t80\t90\t100\t\n"
          ]
        }
      ]
    },
    {
      "cell_type": "markdown",
      "source": [
        "**31. Print Patterns:** Write a Python program using nested loops to print the following pattern:\n",
        "\n",
        "*\n",
        "\n",
        "**\n",
        "\n",
        "***\n",
        "\n",
        "****\n",
        "\n",
        "*****"
      ],
      "metadata": {
        "id": "Vkv6Xze01i_0"
      }
    },
    {
      "cell_type": "code",
      "source": [
        "for i in range (1,7):\n",
        "  for j in range(i):\n",
        "    print('*',end = \" \")\n",
        "  print()\n",
        "\n",
        "for i in range (7,0,-1):\n",
        "  for j in range(i):\n",
        "     print('*',end = \" \")\n",
        "  print()"
      ],
      "metadata": {
        "colab": {
          "base_uri": "https://localhost:8080/"
        },
        "id": "Pd5tEDov1qsU",
        "outputId": "106ba4a6-45c9-46bd-e76b-3b9549c340a0"
      },
      "execution_count": null,
      "outputs": [
        {
          "output_type": "stream",
          "name": "stdout",
          "text": [
            "* \n",
            "* * \n",
            "* * * \n",
            "* * * * \n",
            "* * * * * \n",
            "* * * * * * \n",
            "* * * * * * * \n",
            "* * * * * * \n",
            "* * * * * \n",
            "* * * * \n",
            "* * * \n",
            "* * \n",
            "* \n"
          ]
        }
      ]
    },
    {
      "cell_type": "markdown",
      "source": [
        "**32. Matrix Multiplication:** Write a Python program using nested loops to multiply two matrices."
      ],
      "metadata": {
        "id": "MH11T_9gaFVr"
      }
    },
    {
      "cell_type": "code",
      "source": [
        "def multiply_matrices(A, B):\n",
        "    rows_A = len(A)\n",
        "    cols_A = len(A[0])\n",
        "    rows_B = len(B)\n",
        "    cols_B = len(B[0])\n",
        "\n",
        "\n",
        "    if cols_A != rows_B:\n",
        "        print(\"Matrix multiplication is not possible.\")\n",
        "        return None\n",
        "    result = [[0 for _ in range(cols_B)] for _ in range(rows_A)]\n",
        "    for i in range(rows_A):\n",
        "        for j in range(cols_B):\n",
        "            for k in range(cols_A):\n",
        "                result[i][j] += A[i][k] * B[k][j]\n",
        "    return result\n",
        "A = [\n",
        "    [1, 2],\n",
        "    [3, 4]\n",
        "]\n",
        "B = [\n",
        "    [5, 6],\n",
        "    [7, 8]\n",
        "]\n",
        "result = multiply_matrices(A, B)\n",
        "if result:\n",
        "    for row in result:\n",
        "        print(row)"
      ],
      "metadata": {
        "colab": {
          "base_uri": "https://localhost:8080/"
        },
        "id": "GVcSOjKMaHZi",
        "outputId": "1909a271-3c84-4b21-d0fe-1f0f7c2699ce"
      },
      "execution_count": null,
      "outputs": [
        {
          "output_type": "stream",
          "name": "stdout",
          "text": [
            "[19, 22]\n",
            "[43, 50]\n"
          ]
        }
      ]
    },
    {
      "cell_type": "markdown",
      "source": [
        "**33. Chessboard Pattern:** Write a Python program using nested loops to print a chessboard pattern (alternating “X” and “O” characters) of size 8×8.34."
      ],
      "metadata": {
        "id": "YSkDkjM1bKnE"
      }
    },
    {
      "cell_type": "code",
      "source": [
        "size = 8\n",
        "for i in range(size):\n",
        "    for j in range(size):\n",
        "        if (i + j) % 2 == 0:\n",
        "            print(\"X\", end=\" \")\n",
        "        else:\n",
        "            print(\"O\", end=\" \")\n",
        "    print()\n"
      ],
      "metadata": {
        "colab": {
          "base_uri": "https://localhost:8080/"
        },
        "id": "raDSalh2bM-D",
        "outputId": "9663e5fb-b7ae-4216-e286-b3a6e5dd3a2e"
      },
      "execution_count": null,
      "outputs": [
        {
          "output_type": "stream",
          "name": "stdout",
          "text": [
            "X O X O X O X O \n",
            "O X O X O X O X \n",
            "X O X O X O X O \n",
            "O X O X O X O X \n",
            "X O X O X O X O \n",
            "O X O X O X O X \n",
            "X O X O X O X O \n",
            "O X O X O X O X \n"
          ]
        }
      ]
    },
    {
      "cell_type": "markdown",
      "source": [
        "**Number Pyramid:** Write a Python program using nested loops to print a number pyramid like the following: 1 22 333 4444 55555"
      ],
      "metadata": {
        "id": "IzyFg3lubuKS"
      }
    },
    {
      "cell_type": "code",
      "source": [
        "value = 5\n",
        "for i in range(1, value + 1):\n",
        "  print(str(i)*i)\n",
        "\n",
        "print(type(value))"
      ],
      "metadata": {
        "colab": {
          "base_uri": "https://localhost:8080/"
        },
        "id": "QHTk1zlGbvnT",
        "outputId": "b8903da8-42ea-4465-f11c-e8f842677dd0"
      },
      "execution_count": null,
      "outputs": [
        {
          "output_type": "stream",
          "name": "stdout",
          "text": [
            "1\n",
            "22\n",
            "333\n",
            "4444\n",
            "55555\n",
            "<class 'int'>\n"
          ]
        }
      ]
    }
  ]
}