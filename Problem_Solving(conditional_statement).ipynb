{
  "nbformat": 4,
  "nbformat_minor": 0,
  "metadata": {
    "colab": {
      "provenance": [],
      "authorship_tag": "ABX9TyM3/uQeRgoY/0dHLlwxH0k6",
      "include_colab_link": true
    },
    "kernelspec": {
      "name": "python3",
      "display_name": "Python 3"
    },
    "language_info": {
      "name": "python"
    }
  },
  "cells": [
    {
      "cell_type": "markdown",
      "metadata": {
        "id": "view-in-github",
        "colab_type": "text"
      },
      "source": [
        "<a href=\"https://colab.research.google.com/github/susmoy15/PYTHON/blob/main/Problem_Solving(conditional_statement).ipynb\" target=\"_parent\"><img src=\"https://colab.research.google.com/assets/colab-badge.svg\" alt=\"Open In Colab\"/></a>"
      ]
    },
    {
      "cell_type": "markdown",
      "source": [
        "**11. Positive, Negative, or Zero:** Write a Python program that takes a number as input and prints whether it is positive, negative, or zero."
      ],
      "metadata": {
        "id": "6hfm-W_M42CZ"
      }
    },
    {
      "cell_type": "code",
      "source": [
        "number = float(input(\"Enter a number: \"))\n",
        "\n",
        "if number > 0:\n",
        "    print(\"The number is positive.\")\n",
        "elif number < 0:\n",
        "    print(\"The number is negative.\")\n",
        "else:\n",
        "    print(\"The number is zero.\")"
      ],
      "metadata": {
        "colab": {
          "base_uri": "https://localhost:8080/"
        },
        "id": "LzDec0h547gY",
        "outputId": "f79d41cc-32dc-4abc-e400-2d97e7ec1776"
      },
      "execution_count": null,
      "outputs": [
        {
          "output_type": "stream",
          "name": "stdout",
          "text": [
            "Enter a number: -10.5\n",
            "The number is negative.\n"
          ]
        }
      ]
    },
    {
      "cell_type": "markdown",
      "source": [
        "**12. Largest of Three Numbers:** Write a Python program that takes three numbers as input and prints the largest among them."
      ],
      "metadata": {
        "id": "kDsXK7td7gGV"
      }
    },
    {
      "cell_type": "code",
      "source": [
        "num1 = float(input(\"Enter the first number: \"))\n",
        "num2 = float(input(\"Enter the second number: \"))\n",
        "num3 = float(input(\"Enter the third number: \"))\n",
        "if num1 >= num2 and num1 >= num3:\n",
        "    print(\"The largest number is:\", num1)\n",
        "elif num2 >= num1 and num2 >= num3:\n",
        "    print(\"The largest number is:\", num2)\n",
        "else:\n",
        "    print(\"The largest number is:\", num3)"
      ],
      "metadata": {
        "colab": {
          "base_uri": "https://localhost:8080/"
        },
        "id": "5IZfhjro7jf9",
        "outputId": "1abeb167-5c9d-4df5-e4d8-94b9e3178081"
      },
      "execution_count": null,
      "outputs": [
        {
          "output_type": "stream",
          "name": "stdout",
          "text": [
            "Enter the first number: 10\n",
            "Enter the second number: 15\n",
            "Enter the third number: 10\n",
            "The largest number is: 15.0\n"
          ]
        }
      ]
    },
    {
      "cell_type": "markdown",
      "source": [
        "**13. Leap Year Checker:** Write a Python program that takes a year as input and determines if it is a leap year or not."
      ],
      "metadata": {
        "id": "ujyWxYPj74VF"
      }
    },
    {
      "cell_type": "code",
      "source": [
        "year = int(input(\"Enter a year: \"))\n",
        "\n",
        "if(year % 4 ==0 and year % 100 !=0) or (year % 400 == 0):\n",
        "    print(year, \"is a leap year\")\n",
        "else:\n",
        "    print(year, \"is not a leap year\")"
      ],
      "metadata": {
        "colab": {
          "base_uri": "https://localhost:8080/"
        },
        "id": "92KjXCNC77Bm",
        "outputId": "eb583425-59ec-4f9a-81bf-31f9cc88f8e9"
      },
      "execution_count": null,
      "outputs": [
        {
          "output_type": "stream",
          "name": "stdout",
          "text": [
            "Enter a year: 1200\n",
            "1200 is a leap year\n"
          ]
        }
      ]
    },
    {
      "cell_type": "markdown",
      "source": [
        "**14. Grades Classification:** Write a Python program that takes a student’s percentage as input and prints their corresponding grade according to the following criteria: – 90% or above: A+ – 80-89%: A – 70-79%: B – 60-69%: C – Below 60%: Fail"
      ],
      "metadata": {
        "id": "DBJKgP2a-HbS"
      }
    },
    {
      "cell_type": "code",
      "source": [
        "percentage = float(input(\"Enter the student's percentage: \"))\n",
        "\n",
        "if percentage >= 90:\n",
        "    print(\"Grade: A+\")\n",
        "elif percentage >= 80:\n",
        "    print(\"Grade: A\")\n",
        "elif percentage >= 70:\n",
        "    print(\"Grade: B\")\n",
        "elif percentage >= 60:\n",
        "    print(\"Grade: C\")\n",
        "else:\n",
        "    print(\"Grade: Fail\")"
      ],
      "metadata": {
        "colab": {
          "base_uri": "https://localhost:8080/"
        },
        "id": "3sEWE4-f-LJ6",
        "outputId": "d02ccdb9-2edd-46aa-d6c5-4010c3199eae"
      },
      "execution_count": null,
      "outputs": [
        {
          "output_type": "stream",
          "name": "stdout",
          "text": [
            "Enter the student's percentage: 78\n",
            "Grade: B\n"
          ]
        }
      ]
    },
    {
      "cell_type": "markdown",
      "source": [
        "**15. Vowel or Consonant:** Write a Python program that takes a single character as input and determines whether it is a vowel or a consonant."
      ],
      "metadata": {
        "id": "N98nwgqb_haz"
      }
    },
    {
      "cell_type": "code",
      "source": [
        "char = input(\"Enter a character: \").lower()\n",
        "\n",
        "if char in 'aeiou':\n",
        "  print(f\"{char} is a vowel.\")\n",
        "elif char.isalpha():\n",
        "  print(f\"{char} is a consonant.\")\n",
        "else:\n",
        "  print(\"Invalid input. Please enter a single character.\")"
      ],
      "metadata": {
        "colab": {
          "base_uri": "https://localhost:8080/"
        },
        "id": "Jh0sfT7c_j07",
        "outputId": "58069eca-d161-496c-db77-2f4a5e13425e"
      },
      "execution_count": null,
      "outputs": [
        {
          "output_type": "stream",
          "name": "stdout",
          "text": [
            "Enter a character: q\n",
            "q is a consonant.\n"
          ]
        }
      ]
    },
    {
      "cell_type": "markdown",
      "source": [
        "**16. Time Classification:** Write a Python program that takes the time in hours (24-hour format) as input and prints “Good Morning”, “Good Afternoon”, “Good Evening”, or “Good Night” based on the time."
      ],
      "metadata": {
        "id": "0VKWNlpQCsro"
      }
    },
    {
      "cell_type": "code",
      "source": [
        "time = int(input(\"Enter the time in hours: \"))\n",
        "if 5 <= time < 12:\n",
        "    print(\"Good Morning\")\n",
        "elif 12 <= time < 17:\n",
        "    print(\"Good Afternoon\")\n",
        "elif 17 <= time < 21:\n",
        "    print(\"Good Evening\")\n",
        "elif (21 <= time < 24) or (0 <= time < 5):\n",
        "    print(\"Good Night\")\n",
        "else:\n",
        "    print(\"Invalid input! Please enter a time between 0 and 23.\")"
      ],
      "metadata": {
        "colab": {
          "base_uri": "https://localhost:8080/"
        },
        "id": "NhgdlFkyCt84",
        "outputId": "f5fe8b3f-35bf-4e5c-f85b-05ac57d71980"
      },
      "execution_count": null,
      "outputs": [
        {
          "output_type": "stream",
          "name": "stdout",
          "text": [
            "Enter the time in hours: 147\n",
            "Invalid input! Please enter a time between 0 and 23.\n"
          ]
        }
      ]
    },
    {
      "cell_type": "markdown",
      "source": [
        "**17. Triangle Type Checker:** Write a Python program that takes three sides of a triangle as input and determines whether it forms an equilateral, isosceles, or scalene triangle."
      ],
      "metadata": {
        "id": "UcMMaVHBDNWf"
      }
    },
    {
      "cell_type": "code",
      "source": [
        "side1 = float(input(\"Enter the length of the first side: \"))\n",
        "side2 = float(input(\"Enter the length of the second side: \"))\n",
        "side3 = float(input(\"Enter the length of the third side: \"))\n",
        "if side1 <= 0 or side2 <= 0 or side3 <= 0:\n",
        "    print(\"The sides must be positive numbers.\")\n",
        "elif side1 + side2 > side3 and side2 + side3 > side1 and side3 + side1 > side2:\n",
        "    if side1 == side2 == side3:\n",
        "        print(\"The triangle is Equilateral.\")\n",
        "    elif side1 == side2 or side2 == side3 or side1 == side3:\n",
        "        print(\"The triangle is Isosceles.\")\n",
        "    else:\n",
        "        print(\"The triangle is Scalene.\")\n",
        "else:\n",
        "    print(\"The sides do not form a valid triangle.\")"
      ],
      "metadata": {
        "colab": {
          "base_uri": "https://localhost:8080/"
        },
        "id": "QtwWqErTDSpn",
        "outputId": "52a37d6f-c88f-4447-dd46-f96679246ed1"
      },
      "execution_count": null,
      "outputs": [
        {
          "output_type": "stream",
          "name": "stdout",
          "text": [
            "Enter the length of the first side: 89\n",
            "Enter the length of the second side: 98\n",
            "Enter the length of the third side: -89\n",
            "The sides must be positive numbers.\n"
          ]
        }
      ]
    },
    {
      "cell_type": "markdown",
      "source": [
        "**18. Quadratic Equation Solver:** Write a Python program that takes the coefficients (a, b, c) of a quadratic equation as input and calculates and prints the real roots (if they exist) or a message indicating the complex roots."
      ],
      "metadata": {
        "id": "ZAw0AXOOYIP0"
      }
    },
    {
      "cell_type": "code",
      "source": [
        "import math\n",
        "a = float(input(\"Enter coefficient a: \"))\n",
        "b = float(input(\"Enter coefficient b: \"))\n",
        "c = float(input(\"Enter coefficient c: \"))\n",
        "\n",
        "discriminant = b**2 - 4*a*c\n",
        "if discriminant > 0:\n",
        "    root1 = (-b + math.sqrt(discriminant)) / (2*a)\n",
        "    root2 = (-b - math.sqrt(discriminant)) / (2*a)\n",
        "    print(f\"The roots are real and different: {root1} and {root2}\")\n",
        "elif discriminant == 0:\n",
        "    root = -b / (2*a)\n",
        "    print(f\"The root is real and the same: {root}\")\n",
        "else:\n",
        "    real_part = -b / (2*a)\n",
        "    imaginary_part = math.sqrt(-discriminant) / (2*a)\n",
        "    print(f\"The roots are complex: {real_part} + {imaginary_part} and {real_part} - {imaginary_part}\")\n"
      ],
      "metadata": {
        "colab": {
          "base_uri": "https://localhost:8080/"
        },
        "id": "sbfayjBRYMOL",
        "outputId": "ff479e27-0163-45b7-e70e-da3b98daa820"
      },
      "execution_count": null,
      "outputs": [
        {
          "output_type": "stream",
          "name": "stdout",
          "text": [
            "Enter coefficient a: 3\n",
            "Enter coefficient b: 3\n",
            "Enter coefficient c: 3\n",
            "The roots are complex: -0.5 + 0.8660254037844387 and -0.5 - 0.8660254037844387\n"
          ]
        }
      ]
    },
    {
      "cell_type": "markdown",
      "source": [
        "**19. Number Ranges:** Write a Python program that takes an integer as input and prints whether the number falls within the ranges: 0-50, 51-100, 101-150, or above 150."
      ],
      "metadata": {
        "id": "JO-xCMLPg_oy"
      }
    },
    {
      "cell_type": "code",
      "source": [
        "number = int(input(\"Enter an integer: \"))\n",
        "if 0 <= number <= 50:\n",
        "    print(\"The number is between 0 and 50.\")\n",
        "elif 51 <= number <= 100:\n",
        "    print(\"The number is between 51 and 100.\")\n",
        "elif 101 <= number <= 150:\n",
        "    print(\"The number is between 101 and 150.\")\n",
        "else:\n",
        "    print(\"The number is above 150.\")"
      ],
      "metadata": {
        "colab": {
          "base_uri": "https://localhost:8080/"
        },
        "id": "KLutQ0GihHSL",
        "outputId": "28f4e844-5984-4350-adcd-d6eee2a0424a"
      },
      "execution_count": null,
      "outputs": [
        {
          "output_type": "stream",
          "name": "stdout",
          "text": [
            "Enter an integer: 150\n",
            "The number is between 101 and 150.\n"
          ]
        }
      ]
    }
  ]
}