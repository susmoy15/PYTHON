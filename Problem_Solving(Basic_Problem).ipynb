{
  "nbformat": 4,
  "nbformat_minor": 0,
  "metadata": {
    "colab": {
      "provenance": [],
      "authorship_tag": "ABX9TyNoHIvSzLib3putvNSY1ID/",
      "include_colab_link": true
    },
    "kernelspec": {
      "name": "python3",
      "display_name": "Python 3"
    },
    "language_info": {
      "name": "python"
    }
  },
  "cells": [
    {
      "cell_type": "markdown",
      "metadata": {
        "id": "view-in-github",
        "colab_type": "text"
      },
      "source": [
        "<a href=\"https://colab.research.google.com/github/susmoy15/PYTHON/blob/main/Problem_Solving(Basic_Problem).ipynb\" target=\"_parent\"><img src=\"https://colab.research.google.com/assets/colab-badge.svg\" alt=\"Open In Colab\"/></a>"
      ]
    },
    {
      "cell_type": "markdown",
      "source": [
        "**1. Variable Swap:** Write a Python program to swap the values of two variables without using a temporary variable."
      ],
      "metadata": {
        "id": "Gydff3VhiEZM"
      }
    },
    {
      "cell_type": "code",
      "source": [
        "a = 7\n",
        "b = 8\n",
        "X = a+b;\n",
        "Y = X-b;\n",
        "X = X-Y\n",
        "print(\"After swapping:\")\n",
        "print(f\"X = {X}, Y = {Y}\")\n"
      ],
      "metadata": {
        "colab": {
          "base_uri": "https://localhost:8080/"
        },
        "id": "3ASIyS0iiG8E",
        "outputId": "7c4b3528-1719-4dd9-f7a0-548bc92edd6f"
      },
      "execution_count": null,
      "outputs": [
        {
          "output_type": "stream",
          "name": "stdout",
          "text": [
            "After swapping:\n",
            "X = 8, Y = 7\n"
          ]
        }
      ]
    },
    {
      "cell_type": "markdown",
      "source": [
        "**2. Even or Odd:** Write a Python program that takes an integer as input and prints whether it is even or odd."
      ],
      "metadata": {
        "id": "aWHsICeukJFu"
      }
    },
    {
      "cell_type": "code",
      "source": [
        "number = int(input(\"Enter a number: \"))\n",
        "if(number % 2 == 0):\n",
        "    print(\"Its a even number\")\n",
        "else:\n",
        "    print(\"Its a odd number\")\n"
      ],
      "metadata": {
        "colab": {
          "base_uri": "https://localhost:8080/"
        },
        "id": "EjF717tdkMTm",
        "outputId": "92542065-ef0a-47a0-8b7f-677a177dfc52"
      },
      "execution_count": null,
      "outputs": [
        {
          "output_type": "stream",
          "name": "stdout",
          "text": [
            "Enter a number: 5\n",
            "Its a odd number\n"
          ]
        }
      ]
    },
    {
      "cell_type": "markdown",
      "source": [
        "**3. String Reverse:** Write a Python function to reverse a given string and return the reversed string."
      ],
      "metadata": {
        "id": "baj1BHjZk_wm"
      }
    },
    {
      "cell_type": "code",
      "source": [
        "def reverse_string(S):\n",
        "  return S[::-1]\n",
        "\n",
        "input_string = input(\"Enter a string: \")\n",
        "reversed_string  = reverse_string(input_string)\n",
        "print(f\"Reversed_String : {reversed_string}\")"
      ],
      "metadata": {
        "colab": {
          "base_uri": "https://localhost:8080/"
        },
        "id": "X9zydqdXlCA2",
        "outputId": "2f493a10-fb8c-4770-b341-831751ff7658"
      },
      "execution_count": null,
      "outputs": [
        {
          "output_type": "stream",
          "name": "stdout",
          "text": [
            "Enter a string: Susmoy The Boss\n",
            "Reversed_String : ssoB ehT yomsuS\n"
          ]
        }
      ]
    },
    {
      "cell_type": "markdown",
      "source": [
        "**4. Type Conversion:** Given a list of integers, write a Python program to convert each element of the list to a string."
      ],
      "metadata": {
        "id": "M2WiAsLumrCa"
      }
    },
    {
      "cell_type": "code",
      "source": [
        "int_value = [1, 2, 3, 5, 8, 9]\n",
        "\n",
        "int_string = [str(i) for i in int_value]\n",
        "print(f\"Converted_String : {int_string}\")\n",
        "value = int_string.pop(2)\n",
        "print(f\"Removed_Element : {value}\")\n",
        "print(f\"Converted_String : {int_string}\")"
      ],
      "metadata": {
        "colab": {
          "base_uri": "https://localhost:8080/"
        },
        "id": "t4upTJy0mtpC",
        "outputId": "954190ff-deb2-4d9b-fb24-08cb5640546e"
      },
      "execution_count": null,
      "outputs": [
        {
          "output_type": "stream",
          "name": "stdout",
          "text": [
            "Converted_String : ['1', '2', '3', '5', '8', '9']\n",
            "Removed_Element : 3\n",
            "Converted_String : ['1', '2', '5', '8', '9']\n"
          ]
        }
      ]
    },
    {
      "cell_type": "markdown",
      "source": [
        "**5. Temperature Converter:** Write a Python program that converts a temperature in Celsius to Fahrenheit. Take the Celsius temperature as input from the user."
      ],
      "metadata": {
        "id": "2uPF1tGOo_Gz"
      }
    },
    {
      "cell_type": "code",
      "source": [
        "Celcius = float(input(\"Enter the temperature in Celcius: \"))\n",
        "Fahrenheit = (Celcius * 9/5) + 32\n",
        "print(f\"Temperature in Fahrenheit: {Fahrenheit}\")"
      ],
      "metadata": {
        "colab": {
          "base_uri": "https://localhost:8080/"
        },
        "id": "VCmu6Vk1n528",
        "outputId": "273c6fa2-1b18-4b6c-964d-611de7782fc1"
      },
      "execution_count": null,
      "outputs": [
        {
          "output_type": "stream",
          "name": "stdout",
          "text": [
            "Enter the temperature in Celcius: 27.5\n",
            "Temperature in Fahrenheit: 81.5\n"
          ]
        }
      ]
    },
    {
      "cell_type": "markdown",
      "source": [
        "**6. Data Type Checker:** Write a Python function that takes a variable as input and returns the data type of the variable as a string (e.g., “int”, “float”, “str”, “list”, etc.)."
      ],
      "metadata": {
        "id": "WGjH1kNTu51l"
      }
    },
    {
      "cell_type": "code",
      "source": [
        "def String(S):\n",
        "  return type(S).__name__\n",
        "user_input = __builtins__.input(\"Enter a number: \")\n",
        "try:\n",
        "  user_input = int(user_input)\n",
        "except ValueError:\n",
        "    try:\n",
        "        user_input = float(user_input)\n",
        "    except ValueError:\n",
        "      pass\n",
        "print(\"The data type of the entered variable is:\", String(user_input))"
      ],
      "metadata": {
        "colab": {
          "base_uri": "https://localhost:8080/"
        },
        "id": "Eshprgqnu7Ok",
        "outputId": "465de87f-895b-4407-f3ed-f2a929af8e1c"
      },
      "execution_count": null,
      "outputs": [
        {
          "output_type": "stream",
          "name": "stdout",
          "text": [
            "Enter a number: susmoy\n",
            "The data type of the entered variable is: str\n"
          ]
        }
      ]
    },
    {
      "cell_type": "markdown",
      "source": [
        "**7. String Palindrome:** Write a Python function to check if a given string is a palindrome or not."
      ],
      "metadata": {
        "id": "yIfdCiGs04Pp"
      }
    },
    {
      "cell_type": "code",
      "source": [
        "def is_palindrome(S):\n",
        "  S = S.replace(\" \",\"\").lower()\n",
        "  return S == S[::-1]\n",
        "input_string = __builtins__.input(\"Enter a string: \")\n",
        "if is_palindrome(input_string):\n",
        "  print(\"Its a palindrome\")\n",
        "else:\n",
        "  print(\"Its not a palindrome\")\n"
      ],
      "metadata": {
        "colab": {
          "base_uri": "https://localhost:8080/"
        },
        "id": "ue90W_FM054R",
        "outputId": "ef9bdab4-74aa-4937-831d-f6e33acbd073"
      },
      "execution_count": null,
      "outputs": [
        {
          "output_type": "stream",
          "name": "stdout",
          "text": [
            "Enter a string: race car\n",
            "Its a palindrome\n"
          ]
        }
      ]
    },
    {
      "cell_type": "markdown",
      "source": [
        "**9. String Concatenation:** Write a Python program that takes two strings as input and concatenates them into a single string without using the `+` operator."
      ],
      "metadata": {
        "id": "5sCOyrQA5ez8"
      }
    },
    {
      "cell_type": "code",
      "source": [
        "def String_Concat(str1,str2):\n",
        "  return ' ' .join([str1,str2])\n",
        "input_string1 = __builtins__.input(\"Enter a string:\")\n",
        "input_string2 = __builtins__.input(\"Enter a string:\")\n",
        "result = String_Concat(input_string1,input_string2)\n",
        "print(result)"
      ],
      "metadata": {
        "colab": {
          "base_uri": "https://localhost:8080/"
        },
        "id": "Z-VfiHD_5glU",
        "outputId": "a0342398-f738-4e8a-f145-afe1aaf8dcdf"
      },
      "execution_count": null,
      "outputs": [
        {
          "output_type": "stream",
          "name": "stdout",
          "text": [
            "Enter a string:susmoy\n",
            "Enter a string:Bless\n",
            "susmoy Bless\n"
          ]
        }
      ]
    }
  ]
}